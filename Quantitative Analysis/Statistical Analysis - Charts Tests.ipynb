{
 "cells": [
  {
   "cell_type": "code",
   "execution_count": 90,
   "id": "c6eb12bc",
   "metadata": {},
   "outputs": [],
   "source": [
    "import numpy as np\n",
    "import pandas as pd\n",
    "import seaborn as sns\n",
    "import statsmodels.stats.weightstats as sms\n",
    "from scipy import stats\n",
    "import math\n",
    "from scipy.stats import norm\n",
    "from warnings import filterwarnings\n",
    "filterwarnings('ignore')"
   ]
  },
  {
   "cell_type": "markdown",
   "id": "c6db7d7d",
   "metadata": {},
   "source": [
    "## Average cost, all years, stay focused and according to system"
   ]
  },
  {
   "cell_type": "markdown",
   "id": "3871d6a2",
   "metadata": {},
   "source": [
    "#### NAN statistics issue"
   ]
  },
  {
   "cell_type": "code",
   "execution_count": 114,
   "id": "5b208eee",
   "metadata": {},
   "outputs": [],
   "source": [
    "df = pd.read_csv('pmsi_analysis_v14.csv')\n",
    "df.drop('Unnamed: 0',axis=1,inplace=True)"
   ]
  },
  {
   "cell_type": "code",
   "execution_count": 131,
   "id": "e2ec27f2",
   "metadata": {},
   "outputs": [],
   "source": [
    "ame_cost = df[df['raison']=='AME']['cost'].to_numpy()\n",
    "suv_cost = df[df['raison']=='SUV']['cost'].to_numpy()\n",
    "cmuc_cost = df[df['raison']=='CMU-C']['cost'].to_numpy()\n",
    "amo_cost = df[df['raison']=='AMO hors CMU-C']['cost'].to_numpy()"
   ]
  },
  {
   "cell_type": "markdown",
   "id": "3f7a1781",
   "metadata": {},
   "source": [
    "### 2-sample t-tests (two-sided)"
   ]
  },
  {
   "cell_type": "markdown",
   "id": "feaff366",
   "metadata": {},
   "source": [
    "#### AME vs SUV"
   ]
  },
  {
   "cell_type": "code",
   "execution_count": 132,
   "id": "792250b3",
   "metadata": {},
   "outputs": [
    {
     "data": {
      "text/plain": [
       "Ttest_indResult(statistic=nan, pvalue=nan)"
      ]
     },
     "execution_count": 132,
     "metadata": {},
     "output_type": "execute_result"
    }
   ],
   "source": [
    "stats.ttest_ind(ame_cost,suv_cost)"
   ]
  },
  {
   "cell_type": "markdown",
   "id": "d90a0b4b",
   "metadata": {},
   "source": [
    "#### AME vs CMU-C"
   ]
  },
  {
   "cell_type": "code",
   "execution_count": 119,
   "id": "b69cc8d0",
   "metadata": {},
   "outputs": [
    {
     "data": {
      "text/plain": [
       "Ttest_indResult(statistic=nan, pvalue=nan)"
      ]
     },
     "execution_count": 119,
     "metadata": {},
     "output_type": "execute_result"
    }
   ],
   "source": [
    "stats.ttest_ind(ame_cost,cmuc_cost)"
   ]
  },
  {
   "cell_type": "markdown",
   "id": "f7517000",
   "metadata": {},
   "source": [
    "#### AME vs AMO"
   ]
  },
  {
   "cell_type": "code",
   "execution_count": 120,
   "id": "3cd35ca1",
   "metadata": {},
   "outputs": [
    {
     "data": {
      "text/plain": [
       "Ttest_indResult(statistic=nan, pvalue=nan)"
      ]
     },
     "execution_count": 120,
     "metadata": {},
     "output_type": "execute_result"
    }
   ],
   "source": [
    "stats.ttest_ind(ame_cost,amo_cost)"
   ]
  },
  {
   "cell_type": "markdown",
   "id": "860f724e",
   "metadata": {},
   "source": [
    "#### SUV vs CMU-C"
   ]
  },
  {
   "cell_type": "code",
   "execution_count": 121,
   "id": "54e87fc3",
   "metadata": {},
   "outputs": [
    {
     "data": {
      "text/plain": [
       "Ttest_indResult(statistic=nan, pvalue=nan)"
      ]
     },
     "execution_count": 121,
     "metadata": {},
     "output_type": "execute_result"
    }
   ],
   "source": [
    "stats.ttest_ind(suv_cost,cmuc_cost)"
   ]
  },
  {
   "cell_type": "markdown",
   "id": "6fe8fcb1",
   "metadata": {},
   "source": [
    "#### SUV vs AMO"
   ]
  },
  {
   "cell_type": "code",
   "execution_count": 122,
   "id": "60157b02",
   "metadata": {},
   "outputs": [
    {
     "data": {
      "text/plain": [
       "Ttest_indResult(statistic=nan, pvalue=nan)"
      ]
     },
     "execution_count": 122,
     "metadata": {},
     "output_type": "execute_result"
    }
   ],
   "source": [
    "stats.ttest_ind(suv_cost,amo_cost)"
   ]
  },
  {
   "cell_type": "markdown",
   "id": "7d9c215f",
   "metadata": {},
   "source": [
    "#### CMU-C vs AMO"
   ]
  },
  {
   "cell_type": "code",
   "execution_count": 123,
   "id": "a014d58b",
   "metadata": {},
   "outputs": [
    {
     "data": {
      "text/plain": [
       "Ttest_indResult(statistic=nan, pvalue=nan)"
      ]
     },
     "execution_count": 123,
     "metadata": {},
     "output_type": "execute_result"
    }
   ],
   "source": [
    "stats.ttest_ind(cmuc_cost,amo_cost)"
   ]
  },
  {
   "cell_type": "markdown",
   "id": "63695f77",
   "metadata": {},
   "source": [
    "## Total Cost, all years, stay focused and according to system"
   ]
  },
  {
   "cell_type": "markdown",
   "id": "eca5b759",
   "metadata": {},
   "source": [
    "Let's model the total cost per system $Y$ as a compound Poisson random variable.\n",
    "\n",
    "$$\n",
    "Y=\\sum_{i=1}^{N} X_{i}\n",
    "$$\n",
    "* $X_i$ refers to the cost of the admisssion $i$, $X_1,X_2,..$ are assumed to be $iid$ for the same law as $X$. Furthermore, they are deemed as independent from $N$.\n",
    "* The number of admission $N \\approx \\mathcal{P}(\\lambda)$, with $\\lambda$ unknown.\n",
    "* $\\mu_{1} = E(X)$, estimated through the empirical moment estimator $\\hat{\\mu_{1}}$\n",
    "* $\\mu_{2} = E(X^{2})$, estimated through the empirical moment estimator $\\hat{\\mu_{2}}$\n",
    "\n",
    "Some calculus gives us the following quadratic equation in $\\theta = E(Y)$ :\n",
    "\n",
    "$$\n",
    "\\theta^{2}-\\left(2 Y+z_{*}^{2} \\frac{\\hat{\\mu}_{2}}{\\hat{\\mu}_{1}}\\right) \\theta+Y^{2}=0\n",
    "$$\n",
    "\n",
    "* Solving this equation for $z_{*} = 1,96$ gives the two extremeties of a 95% confidence interval for $\\theta$\n",
    "\n",
    "The idea is to check whether or not the CIs intersect across systems.\n",
    "\n"
   ]
  },
  {
   "cell_type": "code",
   "execution_count": 70,
   "id": "040e5bf2",
   "metadata": {},
   "outputs": [],
   "source": [
    "def generate_ic(Y,N,mu_1,mu_2,conf):\n",
    "    \n",
    "    z = norm.ppf(conf)\n",
    "    \n",
    "    a = 1\n",
    "    b = -(2*Y + (z**2)*(mu_2/mu_1))\n",
    "    c = Y**2\n",
    "    \n",
    "    delta = b**2 - 4*a*c\n",
    "    \n",
    "    l_ci = (-b - math.sqrt(delta))/(2*a)\n",
    "    h_ci = (-b + math.sqrt(delta))/(2*a)\n",
    "    \n",
    "    return l_ci, h_ci\n",
    "        "
   ]
  },
  {
   "cell_type": "markdown",
   "id": "1ec3c642",
   "metadata": {},
   "source": [
    "### Computing $Y$, $N$,$\\hat{\\mu_{1}}$,$\\hat{\\mu_{2}}$ and generating $\\theta$ confidence intervalls for each system\n"
   ]
  },
  {
   "cell_type": "code",
   "execution_count": null,
   "id": "241a2eff",
   "metadata": {},
   "outputs": [],
   "source": [
    "df = pd.read_csv('pmsi_analysis_v14.csv')\n",
    "df.drop('Unnamed: 0',axis=1,inplace=True)"
   ]
  },
  {
   "cell_type": "markdown",
   "id": "26ca1920",
   "metadata": {},
   "source": [
    "#### AME"
   ]
  },
  {
   "cell_type": "code",
   "execution_count": 73,
   "id": "fde44eaf",
   "metadata": {},
   "outputs": [],
   "source": [
    "Y= df[df['raison']=='AME']['cost'].sum()\n",
    "N = len(df[df['raison']=='AME']['cost'])\n",
    "mu_1_ame = df[df['raison']=='AME']['cost'].mean()\n",
    "mu_2_ame = (df[df['raison']=='AME']['cost']**2).mean()"
   ]
  },
  {
   "cell_type": "code",
   "execution_count": 76,
   "id": "a12d30b0",
   "metadata": {},
   "outputs": [
    {
     "data": {
      "text/plain": [
       "2663752063.874427"
      ]
     },
     "execution_count": 76,
     "metadata": {},
     "output_type": "execute_result"
    }
   ],
   "source": [
    "Y"
   ]
  },
  {
   "cell_type": "code",
   "execution_count": 77,
   "id": "51e90eb5",
   "metadata": {},
   "outputs": [
    {
     "data": {
      "text/plain": [
       "(2652017594.1798105, 2675538455.4640245)"
      ]
     },
     "execution_count": 77,
     "metadata": {},
     "output_type": "execute_result"
    }
   ],
   "source": [
    "generate_ic(Y,N,mu_1_ame,mu_2_ame,conf=0.95)"
   ]
  },
  {
   "cell_type": "markdown",
   "id": "94f3dbaf",
   "metadata": {},
   "source": [
    "#### SUV"
   ]
  },
  {
   "cell_type": "code",
   "execution_count": 78,
   "id": "dd129ea7",
   "metadata": {},
   "outputs": [],
   "source": [
    "Y= df[df['raison']=='SUV']['cost'].sum()\n",
    "N = len(df[df['raison']=='SUV']['cost'])\n",
    "mu_1_suv = df[df['raison']=='SUV']['cost'].mean()\n",
    "mu_2_suv = (df[df['raison']=='SUV']['cost']**2).mean()"
   ]
  },
  {
   "cell_type": "code",
   "execution_count": 79,
   "id": "25cec411",
   "metadata": {},
   "outputs": [
    {
     "data": {
      "text/plain": [
       "480335826.8353447"
      ]
     },
     "execution_count": 79,
     "metadata": {},
     "output_type": "execute_result"
    }
   ],
   "source": [
    "Y"
   ]
  },
  {
   "cell_type": "code",
   "execution_count": 80,
   "id": "722ad8c5",
   "metadata": {},
   "outputs": [
    {
     "data": {
      "text/plain": [
       "(475057362.79221976, 485672941.0222981)"
      ]
     },
     "execution_count": 80,
     "metadata": {},
     "output_type": "execute_result"
    }
   ],
   "source": [
    "generate_ic(Y,N,mu_1_suv,mu_2_suv,conf=0.95)"
   ]
  },
  {
   "cell_type": "markdown",
   "id": "1b2e8d3a",
   "metadata": {},
   "source": [
    "#### CMU-C"
   ]
  },
  {
   "cell_type": "code",
   "execution_count": 81,
   "id": "5d8a9a6f",
   "metadata": {},
   "outputs": [],
   "source": [
    "Y= df[df['raison']=='CMU-C']['cost'].sum()\n",
    "N = len(df[df['raison']=='CMU-C']['cost'])\n",
    "mu_1_cmuc = df[df['raison']=='CMU-C']['cost'].mean()\n",
    "mu_2_cmuc = (df[df['raison']=='CMU-C']['cost']**2).mean()"
   ]
  },
  {
   "cell_type": "code",
   "execution_count": 82,
   "id": "92a14e82",
   "metadata": {},
   "outputs": [
    {
     "data": {
      "text/plain": [
       "1932703266.0760472"
      ]
     },
     "execution_count": 82,
     "metadata": {},
     "output_type": "execute_result"
    }
   ],
   "source": [
    "Y"
   ]
  },
  {
   "cell_type": "code",
   "execution_count": 83,
   "id": "b92bd942",
   "metadata": {},
   "outputs": [
    {
     "data": {
      "text/plain": [
       "(1924248317.8414445, 1941195364.479361)"
      ]
     },
     "execution_count": 83,
     "metadata": {},
     "output_type": "execute_result"
    }
   ],
   "source": [
    "generate_ic(Y,N,mu_1_cmuc,mu_2_cmuc,conf=0.95)"
   ]
  },
  {
   "cell_type": "markdown",
   "id": "fa6c37dc",
   "metadata": {},
   "source": [
    "#### AMO"
   ]
  },
  {
   "cell_type": "code",
   "execution_count": 84,
   "id": "66bd5a41",
   "metadata": {},
   "outputs": [],
   "source": [
    "Y= df[df['raison']=='AMO hors CMU-C']['cost'].sum()\n",
    "N = len(df[df['raison']=='AMO hors CMU-C']['cost'])\n",
    "mu_1_amo = df[df['raison']=='AMO hors CMU-C']['cost'].mean()\n",
    "mu_2_amo = (df[df['raison']=='AMO hors CMU-C']['cost']**2).mean()"
   ]
  },
  {
   "cell_type": "code",
   "execution_count": 85,
   "id": "5a00fe09",
   "metadata": {},
   "outputs": [
    {
     "data": {
      "text/plain": [
       "2841914529.19382"
      ]
     },
     "execution_count": 85,
     "metadata": {},
     "output_type": "execute_result"
    }
   ],
   "source": [
    "Y"
   ]
  },
  {
   "cell_type": "code",
   "execution_count": 86,
   "id": "0c52a526",
   "metadata": {},
   "outputs": [
    {
     "data": {
      "text/plain": [
       "(2831787074.2416954, 2852078203.445319)"
      ]
     },
     "execution_count": 86,
     "metadata": {},
     "output_type": "execute_result"
    }
   ],
   "source": [
    "generate_ic(Y,N,mu_1_amo,mu_2_amo,conf=0.95)"
   ]
  },
  {
   "cell_type": "markdown",
   "id": "6eed4505",
   "metadata": {},
   "source": [
    "## Total Cost across groups and systems, all years, stay focused"
   ]
  },
  {
   "cell_type": "markdown",
   "id": "d56d4bf0",
   "metadata": {},
   "source": [
    "We aim to perform the following $\\chi^{2}$ test :\n",
    "\n",
    "$$\n",
    "\\begin{cases}H_{0}: & \\text { grp_cln and raison are independant } \\\\ H_{1}: & \\text { grp_cln and raison are dependant }\\end{cases}\n",
    "$$"
   ]
  },
  {
   "cell_type": "code",
   "execution_count": 1,
   "id": "bb4a4120",
   "metadata": {},
   "outputs": [
    {
     "ename": "NameError",
     "evalue": "name 'pd' is not defined",
     "output_type": "error",
     "traceback": [
      "\u001b[1;31m---------------------------------------------------------------------------\u001b[0m",
      "\u001b[1;31mNameError\u001b[0m                                 Traceback (most recent call last)",
      "\u001b[1;32m<ipython-input-1-29fe6f446a3f>\u001b[0m in \u001b[0;36m<module>\u001b[1;34m\u001b[0m\n\u001b[1;32m----> 1\u001b[1;33m \u001b[0mdf\u001b[0m \u001b[1;33m=\u001b[0m \u001b[0mpd\u001b[0m\u001b[1;33m.\u001b[0m\u001b[0mread_csv\u001b[0m\u001b[1;33m(\u001b[0m\u001b[1;34m'pmsi_analysis_v14.csv'\u001b[0m\u001b[1;33m)\u001b[0m\u001b[1;33m\u001b[0m\u001b[1;33m\u001b[0m\u001b[0m\n\u001b[0m\u001b[0;32m      2\u001b[0m \u001b[0mdf\u001b[0m\u001b[1;33m.\u001b[0m\u001b[0mdrop\u001b[0m\u001b[1;33m(\u001b[0m\u001b[1;34m'Unnamed: 0'\u001b[0m\u001b[1;33m,\u001b[0m\u001b[0maxis\u001b[0m\u001b[1;33m=\u001b[0m\u001b[1;36m1\u001b[0m\u001b[1;33m,\u001b[0m\u001b[0minplace\u001b[0m\u001b[1;33m=\u001b[0m\u001b[1;32mTrue\u001b[0m\u001b[1;33m)\u001b[0m\u001b[1;33m\u001b[0m\u001b[1;33m\u001b[0m\u001b[0m\n\u001b[0;32m      3\u001b[0m \u001b[0mdf\u001b[0m\u001b[1;33m[\u001b[0m\u001b[1;34m'grp_cln'\u001b[0m\u001b[1;33m]\u001b[0m \u001b[1;33m=\u001b[0m \u001b[0mdf\u001b[0m\u001b[1;33m[\u001b[0m\u001b[1;34m'grp_cln'\u001b[0m\u001b[1;33m]\u001b[0m\u001b[1;33m.\u001b[0m\u001b[0mastype\u001b[0m\u001b[1;33m(\u001b[0m\u001b[1;34m'str'\u001b[0m\u001b[1;33m)\u001b[0m\u001b[1;33m\u001b[0m\u001b[1;33m\u001b[0m\u001b[0m\n\u001b[0;32m      4\u001b[0m \u001b[0mdf\u001b[0m \u001b[1;33m=\u001b[0m \u001b[0mdf\u001b[0m\u001b[1;33m[\u001b[0m\u001b[0mdf\u001b[0m\u001b[1;33m[\u001b[0m\u001b[1;34m'grp_cln'\u001b[0m\u001b[1;33m]\u001b[0m \u001b[1;33m!=\u001b[0m \u001b[1;34m'no match'\u001b[0m\u001b[1;33m]\u001b[0m\u001b[1;33m\u001b[0m\u001b[1;33m\u001b[0m\u001b[0m\n",
      "\u001b[1;31mNameError\u001b[0m: name 'pd' is not defined"
     ]
    }
   ],
   "source": [
    "df = pd.read_csv('pmsi_analysis_v14.csv')\n",
    "df.drop('Unnamed: 0',axis=1,inplace=True)\n",
    "df['grp_cln'] = df['grp_cln'].astype('str')\n",
    "df = df[df['grp_cln'] != 'no match']"
   ]
  },
  {
   "cell_type": "code",
   "execution_count": 88,
   "id": "3636d678",
   "metadata": {},
   "outputs": [],
   "source": [
    "df_cg = df.groupby(['grp_cln','raison']).agg({'cost':'sum'})\n",
    "df_cg = df_cg.reset_index()\n",
    "df_cg = df_cg[df_cg['grp_cln']!='no match']"
   ]
  },
  {
   "cell_type": "code",
   "execution_count": 89,
   "id": "c2aa13b4",
   "metadata": {},
   "outputs": [
    {
     "data": {
      "text/html": [
       "<div>\n",
       "<style scoped>\n",
       "    .dataframe tbody tr th:only-of-type {\n",
       "        vertical-align: middle;\n",
       "    }\n",
       "\n",
       "    .dataframe tbody tr th {\n",
       "        vertical-align: top;\n",
       "    }\n",
       "\n",
       "    .dataframe thead th {\n",
       "        text-align: right;\n",
       "    }\n",
       "</style>\n",
       "<table border=\"1\" class=\"dataframe\">\n",
       "  <thead>\n",
       "    <tr style=\"text-align: right;\">\n",
       "      <th></th>\n",
       "      <th>grp_cln</th>\n",
       "      <th>raison</th>\n",
       "      <th>cost</th>\n",
       "    </tr>\n",
       "  </thead>\n",
       "  <tbody>\n",
       "    <tr>\n",
       "      <th>0</th>\n",
       "      <td>1</td>\n",
       "      <td>AME</td>\n",
       "      <td>1.982820e+08</td>\n",
       "    </tr>\n",
       "    <tr>\n",
       "      <th>1</th>\n",
       "      <td>1</td>\n",
       "      <td>AMO hors CMU-C</td>\n",
       "      <td>6.996243e+07</td>\n",
       "    </tr>\n",
       "    <tr>\n",
       "      <th>2</th>\n",
       "      <td>1</td>\n",
       "      <td>CMU-C</td>\n",
       "      <td>4.703201e+07</td>\n",
       "    </tr>\n",
       "    <tr>\n",
       "      <th>3</th>\n",
       "      <td>1</td>\n",
       "      <td>SUV</td>\n",
       "      <td>2.995112e+07</td>\n",
       "    </tr>\n",
       "    <tr>\n",
       "      <th>4</th>\n",
       "      <td>10</td>\n",
       "      <td>AME</td>\n",
       "      <td>5.136779e+06</td>\n",
       "    </tr>\n",
       "    <tr>\n",
       "      <th>...</th>\n",
       "      <td>...</td>\n",
       "      <td>...</td>\n",
       "      <td>...</td>\n",
       "    </tr>\n",
       "    <tr>\n",
       "      <th>75</th>\n",
       "      <td>8</td>\n",
       "      <td>SUV</td>\n",
       "      <td>6.132987e+06</td>\n",
       "    </tr>\n",
       "    <tr>\n",
       "      <th>76</th>\n",
       "      <td>9</td>\n",
       "      <td>AME</td>\n",
       "      <td>8.023549e+07</td>\n",
       "    </tr>\n",
       "    <tr>\n",
       "      <th>77</th>\n",
       "      <td>9</td>\n",
       "      <td>AMO hors CMU-C</td>\n",
       "      <td>4.289026e+07</td>\n",
       "    </tr>\n",
       "    <tr>\n",
       "      <th>78</th>\n",
       "      <td>9</td>\n",
       "      <td>CMU-C</td>\n",
       "      <td>2.071299e+07</td>\n",
       "    </tr>\n",
       "    <tr>\n",
       "      <th>79</th>\n",
       "      <td>9</td>\n",
       "      <td>SUV</td>\n",
       "      <td>6.844425e+06</td>\n",
       "    </tr>\n",
       "  </tbody>\n",
       "</table>\n",
       "<p>80 rows × 3 columns</p>\n",
       "</div>"
      ],
      "text/plain": [
       "   grp_cln          raison          cost\n",
       "0        1             AME  1.982820e+08\n",
       "1        1  AMO hors CMU-C  6.996243e+07\n",
       "2        1           CMU-C  4.703201e+07\n",
       "3        1             SUV  2.995112e+07\n",
       "4       10             AME  5.136779e+06\n",
       "..     ...             ...           ...\n",
       "75       8             SUV  6.132987e+06\n",
       "76       9             AME  8.023549e+07\n",
       "77       9  AMO hors CMU-C  4.289026e+07\n",
       "78       9           CMU-C  2.071299e+07\n",
       "79       9             SUV  6.844425e+06\n",
       "\n",
       "[80 rows x 3 columns]"
      ]
     },
     "execution_count": 89,
     "metadata": {},
     "output_type": "execute_result"
    }
   ],
   "source": [
    "df_cg"
   ]
  },
  {
   "cell_type": "code",
   "execution_count": 90,
   "id": "db9e20e2",
   "metadata": {},
   "outputs": [],
   "source": [
    "df_r = df_cg.groupby(['raison']).agg({'cost':'sum'})\n",
    "df_r = df_r.reset_index()"
   ]
  },
  {
   "cell_type": "code",
   "execution_count": 91,
   "id": "41efe323",
   "metadata": {},
   "outputs": [
    {
     "data": {
      "text/html": [
       "<div>\n",
       "<style scoped>\n",
       "    .dataframe tbody tr th:only-of-type {\n",
       "        vertical-align: middle;\n",
       "    }\n",
       "\n",
       "    .dataframe tbody tr th {\n",
       "        vertical-align: top;\n",
       "    }\n",
       "\n",
       "    .dataframe thead th {\n",
       "        text-align: right;\n",
       "    }\n",
       "</style>\n",
       "<table border=\"1\" class=\"dataframe\">\n",
       "  <thead>\n",
       "    <tr style=\"text-align: right;\">\n",
       "      <th></th>\n",
       "      <th>raison</th>\n",
       "      <th>cost</th>\n",
       "    </tr>\n",
       "  </thead>\n",
       "  <tbody>\n",
       "    <tr>\n",
       "      <th>0</th>\n",
       "      <td>AME</td>\n",
       "      <td>9.617213e+08</td>\n",
       "    </tr>\n",
       "    <tr>\n",
       "      <th>1</th>\n",
       "      <td>AMO hors CMU-C</td>\n",
       "      <td>8.445578e+08</td>\n",
       "    </tr>\n",
       "    <tr>\n",
       "      <th>2</th>\n",
       "      <td>CMU-C</td>\n",
       "      <td>4.081475e+08</td>\n",
       "    </tr>\n",
       "    <tr>\n",
       "      <th>3</th>\n",
       "      <td>SUV</td>\n",
       "      <td>1.158605e+08</td>\n",
       "    </tr>\n",
       "  </tbody>\n",
       "</table>\n",
       "</div>"
      ],
      "text/plain": [
       "           raison          cost\n",
       "0             AME  9.617213e+08\n",
       "1  AMO hors CMU-C  8.445578e+08\n",
       "2           CMU-C  4.081475e+08\n",
       "3             SUV  1.158605e+08"
      ]
     },
     "execution_count": 91,
     "metadata": {},
     "output_type": "execute_result"
    }
   ],
   "source": [
    "df_r"
   ]
  },
  {
   "cell_type": "code",
   "execution_count": 92,
   "id": "1ecbf697",
   "metadata": {},
   "outputs": [],
   "source": [
    "df_cg['system_total'] = list(df_r['cost'])*20"
   ]
  },
  {
   "cell_type": "code",
   "execution_count": 93,
   "id": "271ff29f",
   "metadata": {},
   "outputs": [],
   "source": [
    "df_cg['% of system'] = df_cg['cost']/df_cg['system_total']"
   ]
  },
  {
   "cell_type": "code",
   "execution_count": 94,
   "id": "6dbf4f89",
   "metadata": {},
   "outputs": [
    {
     "data": {
      "text/html": [
       "<div>\n",
       "<style scoped>\n",
       "    .dataframe tbody tr th:only-of-type {\n",
       "        vertical-align: middle;\n",
       "    }\n",
       "\n",
       "    .dataframe tbody tr th {\n",
       "        vertical-align: top;\n",
       "    }\n",
       "\n",
       "    .dataframe thead th {\n",
       "        text-align: right;\n",
       "    }\n",
       "</style>\n",
       "<table border=\"1\" class=\"dataframe\">\n",
       "  <thead>\n",
       "    <tr style=\"text-align: right;\">\n",
       "      <th></th>\n",
       "      <th>grp_cln</th>\n",
       "      <th>raison</th>\n",
       "      <th>cost</th>\n",
       "      <th>system_total</th>\n",
       "      <th>% of system</th>\n",
       "    </tr>\n",
       "  </thead>\n",
       "  <tbody>\n",
       "    <tr>\n",
       "      <th>0</th>\n",
       "      <td>1</td>\n",
       "      <td>AME</td>\n",
       "      <td>1.982820e+08</td>\n",
       "      <td>9.617213e+08</td>\n",
       "      <td>0.206174</td>\n",
       "    </tr>\n",
       "    <tr>\n",
       "      <th>4</th>\n",
       "      <td>10</td>\n",
       "      <td>AME</td>\n",
       "      <td>5.136779e+06</td>\n",
       "      <td>9.617213e+08</td>\n",
       "      <td>0.005341</td>\n",
       "    </tr>\n",
       "    <tr>\n",
       "      <th>8</th>\n",
       "      <td>11</td>\n",
       "      <td>AME</td>\n",
       "      <td>1.242286e+06</td>\n",
       "      <td>9.617213e+08</td>\n",
       "      <td>0.001292</td>\n",
       "    </tr>\n",
       "    <tr>\n",
       "      <th>12</th>\n",
       "      <td>12</td>\n",
       "      <td>AME</td>\n",
       "      <td>1.266224e+07</td>\n",
       "      <td>9.617213e+08</td>\n",
       "      <td>0.013166</td>\n",
       "    </tr>\n",
       "    <tr>\n",
       "      <th>16</th>\n",
       "      <td>13</td>\n",
       "      <td>AME</td>\n",
       "      <td>1.386680e+07</td>\n",
       "      <td>9.617213e+08</td>\n",
       "      <td>0.014419</td>\n",
       "    </tr>\n",
       "    <tr>\n",
       "      <th>20</th>\n",
       "      <td>14</td>\n",
       "      <td>AME</td>\n",
       "      <td>1.933941e+08</td>\n",
       "      <td>9.617213e+08</td>\n",
       "      <td>0.201092</td>\n",
       "    </tr>\n",
       "    <tr>\n",
       "      <th>24</th>\n",
       "      <td>15</td>\n",
       "      <td>AME</td>\n",
       "      <td>1.732163e+07</td>\n",
       "      <td>9.617213e+08</td>\n",
       "      <td>0.018011</td>\n",
       "    </tr>\n",
       "    <tr>\n",
       "      <th>28</th>\n",
       "      <td>16</td>\n",
       "      <td>AME</td>\n",
       "      <td>1.760591e+07</td>\n",
       "      <td>9.617213e+08</td>\n",
       "      <td>0.018307</td>\n",
       "    </tr>\n",
       "    <tr>\n",
       "      <th>32</th>\n",
       "      <td>17</td>\n",
       "      <td>AME</td>\n",
       "      <td>1.348993e+07</td>\n",
       "      <td>9.617213e+08</td>\n",
       "      <td>0.014027</td>\n",
       "    </tr>\n",
       "    <tr>\n",
       "      <th>36</th>\n",
       "      <td>18</td>\n",
       "      <td>AME</td>\n",
       "      <td>1.033543e+07</td>\n",
       "      <td>9.617213e+08</td>\n",
       "      <td>0.010747</td>\n",
       "    </tr>\n",
       "    <tr>\n",
       "      <th>40</th>\n",
       "      <td>19</td>\n",
       "      <td>AME</td>\n",
       "      <td>4.760864e+07</td>\n",
       "      <td>9.617213e+08</td>\n",
       "      <td>0.049504</td>\n",
       "    </tr>\n",
       "    <tr>\n",
       "      <th>44</th>\n",
       "      <td>2</td>\n",
       "      <td>AME</td>\n",
       "      <td>3.077031e+07</td>\n",
       "      <td>9.617213e+08</td>\n",
       "      <td>0.031995</td>\n",
       "    </tr>\n",
       "    <tr>\n",
       "      <th>48</th>\n",
       "      <td>20</td>\n",
       "      <td>AME</td>\n",
       "      <td>9.891791e+07</td>\n",
       "      <td>9.617213e+08</td>\n",
       "      <td>0.102855</td>\n",
       "    </tr>\n",
       "    <tr>\n",
       "      <th>52</th>\n",
       "      <td>3</td>\n",
       "      <td>AME</td>\n",
       "      <td>9.505929e+07</td>\n",
       "      <td>9.617213e+08</td>\n",
       "      <td>0.098843</td>\n",
       "    </tr>\n",
       "    <tr>\n",
       "      <th>56</th>\n",
       "      <td>4</td>\n",
       "      <td>AME</td>\n",
       "      <td>3.063547e+06</td>\n",
       "      <td>9.617213e+08</td>\n",
       "      <td>0.003185</td>\n",
       "    </tr>\n",
       "    <tr>\n",
       "      <th>60</th>\n",
       "      <td>5</td>\n",
       "      <td>AME</td>\n",
       "      <td>2.088816e+07</td>\n",
       "      <td>9.617213e+08</td>\n",
       "      <td>0.021720</td>\n",
       "    </tr>\n",
       "    <tr>\n",
       "      <th>64</th>\n",
       "      <td>6</td>\n",
       "      <td>AME</td>\n",
       "      <td>5.649473e+07</td>\n",
       "      <td>9.617213e+08</td>\n",
       "      <td>0.058743</td>\n",
       "    </tr>\n",
       "    <tr>\n",
       "      <th>68</th>\n",
       "      <td>7</td>\n",
       "      <td>AME</td>\n",
       "      <td>1.119138e+07</td>\n",
       "      <td>9.617213e+08</td>\n",
       "      <td>0.011637</td>\n",
       "    </tr>\n",
       "    <tr>\n",
       "      <th>72</th>\n",
       "      <td>8</td>\n",
       "      <td>AME</td>\n",
       "      <td>3.415474e+07</td>\n",
       "      <td>9.617213e+08</td>\n",
       "      <td>0.035514</td>\n",
       "    </tr>\n",
       "    <tr>\n",
       "      <th>76</th>\n",
       "      <td>9</td>\n",
       "      <td>AME</td>\n",
       "      <td>8.023549e+07</td>\n",
       "      <td>9.617213e+08</td>\n",
       "      <td>0.083429</td>\n",
       "    </tr>\n",
       "  </tbody>\n",
       "</table>\n",
       "</div>"
      ],
      "text/plain": [
       "   grp_cln raison          cost  system_total  % of system\n",
       "0        1    AME  1.982820e+08  9.617213e+08     0.206174\n",
       "4       10    AME  5.136779e+06  9.617213e+08     0.005341\n",
       "8       11    AME  1.242286e+06  9.617213e+08     0.001292\n",
       "12      12    AME  1.266224e+07  9.617213e+08     0.013166\n",
       "16      13    AME  1.386680e+07  9.617213e+08     0.014419\n",
       "20      14    AME  1.933941e+08  9.617213e+08     0.201092\n",
       "24      15    AME  1.732163e+07  9.617213e+08     0.018011\n",
       "28      16    AME  1.760591e+07  9.617213e+08     0.018307\n",
       "32      17    AME  1.348993e+07  9.617213e+08     0.014027\n",
       "36      18    AME  1.033543e+07  9.617213e+08     0.010747\n",
       "40      19    AME  4.760864e+07  9.617213e+08     0.049504\n",
       "44       2    AME  3.077031e+07  9.617213e+08     0.031995\n",
       "48      20    AME  9.891791e+07  9.617213e+08     0.102855\n",
       "52       3    AME  9.505929e+07  9.617213e+08     0.098843\n",
       "56       4    AME  3.063547e+06  9.617213e+08     0.003185\n",
       "60       5    AME  2.088816e+07  9.617213e+08     0.021720\n",
       "64       6    AME  5.649473e+07  9.617213e+08     0.058743\n",
       "68       7    AME  1.119138e+07  9.617213e+08     0.011637\n",
       "72       8    AME  3.415474e+07  9.617213e+08     0.035514\n",
       "76       9    AME  8.023549e+07  9.617213e+08     0.083429"
      ]
     },
     "execution_count": 94,
     "metadata": {},
     "output_type": "execute_result"
    }
   ],
   "source": [
    "df_cg[df_cg['raison']=='AME']"
   ]
  },
  {
   "cell_type": "code",
   "execution_count": 95,
   "id": "5b460473",
   "metadata": {},
   "outputs": [],
   "source": [
    "df_cg['% of system'] = (df_cg['% of system']*1e+08).astype('int')\n",
    "df_cg = df_cg.pivot_table('% of system', ['grp_cln'], 'raison')\n",
    "df_cg = df_cg.reset_index()\n",
    "df_cg = df_cg.rename_axis(None, axis=1)\n",
    "df_cg['grp_cln'] = df_cg['grp_cln'].astype('int')\n",
    "df_cg = df_cg.sort_values(by='grp_cln')\n",
    "df_cg.index = range(1,len(df_cg)+1)"
   ]
  },
  {
   "cell_type": "code",
   "execution_count": 96,
   "id": "9b565dd0",
   "metadata": {},
   "outputs": [
    {
     "data": {
      "text/html": [
       "<div>\n",
       "<style scoped>\n",
       "    .dataframe tbody tr th:only-of-type {\n",
       "        vertical-align: middle;\n",
       "    }\n",
       "\n",
       "    .dataframe tbody tr th {\n",
       "        vertical-align: top;\n",
       "    }\n",
       "\n",
       "    .dataframe thead th {\n",
       "        text-align: right;\n",
       "    }\n",
       "</style>\n",
       "<table border=\"1\" class=\"dataframe\">\n",
       "  <thead>\n",
       "    <tr style=\"text-align: right;\">\n",
       "      <th></th>\n",
       "      <th>grp_cln</th>\n",
       "      <th>AME</th>\n",
       "      <th>AMO hors CMU-C</th>\n",
       "      <th>CMU-C</th>\n",
       "      <th>SUV</th>\n",
       "    </tr>\n",
       "  </thead>\n",
       "  <tbody>\n",
       "    <tr>\n",
       "      <th>1</th>\n",
       "      <td>1</td>\n",
       "      <td>20617406</td>\n",
       "      <td>8283913</td>\n",
       "      <td>11523288</td>\n",
       "      <td>25851013</td>\n",
       "    </tr>\n",
       "    <tr>\n",
       "      <th>2</th>\n",
       "      <td>2</td>\n",
       "      <td>3199503</td>\n",
       "      <td>1023030</td>\n",
       "      <td>2580257</td>\n",
       "      <td>2394628</td>\n",
       "    </tr>\n",
       "    <tr>\n",
       "      <th>3</th>\n",
       "      <td>3</td>\n",
       "      <td>9884287</td>\n",
       "      <td>2878115</td>\n",
       "      <td>4131890</td>\n",
       "      <td>11603098</td>\n",
       "    </tr>\n",
       "    <tr>\n",
       "      <th>4</th>\n",
       "      <td>4</td>\n",
       "      <td>318548</td>\n",
       "      <td>395499</td>\n",
       "      <td>889649</td>\n",
       "      <td>2113306</td>\n",
       "    </tr>\n",
       "    <tr>\n",
       "      <th>5</th>\n",
       "      <td>5</td>\n",
       "      <td>2171955</td>\n",
       "      <td>548964</td>\n",
       "      <td>1640605</td>\n",
       "      <td>3634645</td>\n",
       "    </tr>\n",
       "    <tr>\n",
       "      <th>6</th>\n",
       "      <td>6</td>\n",
       "      <td>5874335</td>\n",
       "      <td>1391767</td>\n",
       "      <td>2627791</td>\n",
       "      <td>10330676</td>\n",
       "    </tr>\n",
       "    <tr>\n",
       "      <th>7</th>\n",
       "      <td>7</td>\n",
       "      <td>1163681</td>\n",
       "      <td>3246447</td>\n",
       "      <td>3571831</td>\n",
       "      <td>240225</td>\n",
       "    </tr>\n",
       "    <tr>\n",
       "      <th>8</th>\n",
       "      <td>8</td>\n",
       "      <td>3551417</td>\n",
       "      <td>5742425</td>\n",
       "      <td>4433755</td>\n",
       "      <td>5293423</td>\n",
       "    </tr>\n",
       "    <tr>\n",
       "      <th>9</th>\n",
       "      <td>9</td>\n",
       "      <td>8342904</td>\n",
       "      <td>5078428</td>\n",
       "      <td>5074877</td>\n",
       "      <td>5907470</td>\n",
       "    </tr>\n",
       "    <tr>\n",
       "      <th>10</th>\n",
       "      <td>10</td>\n",
       "      <td>534123</td>\n",
       "      <td>649248</td>\n",
       "      <td>1243098</td>\n",
       "      <td>85157</td>\n",
       "    </tr>\n",
       "    <tr>\n",
       "      <th>11</th>\n",
       "      <td>11</td>\n",
       "      <td>129173</td>\n",
       "      <td>202317</td>\n",
       "      <td>334838</td>\n",
       "      <td>167372</td>\n",
       "    </tr>\n",
       "    <tr>\n",
       "      <th>12</th>\n",
       "      <td>12</td>\n",
       "      <td>1316622</td>\n",
       "      <td>1890336</td>\n",
       "      <td>10362040</td>\n",
       "      <td>1746760</td>\n",
       "    </tr>\n",
       "    <tr>\n",
       "      <th>13</th>\n",
       "      <td>13</td>\n",
       "      <td>1441873</td>\n",
       "      <td>919977</td>\n",
       "      <td>2669133</td>\n",
       "      <td>2337897</td>\n",
       "    </tr>\n",
       "    <tr>\n",
       "      <th>14</th>\n",
       "      <td>14</td>\n",
       "      <td>20109160</td>\n",
       "      <td>34275631</td>\n",
       "      <td>26708121</td>\n",
       "      <td>10480819</td>\n",
       "    </tr>\n",
       "    <tr>\n",
       "      <th>15</th>\n",
       "      <td>15</td>\n",
       "      <td>1801107</td>\n",
       "      <td>2815473</td>\n",
       "      <td>4584839</td>\n",
       "      <td>2128017</td>\n",
       "    </tr>\n",
       "    <tr>\n",
       "      <th>16</th>\n",
       "      <td>16</td>\n",
       "      <td>1830666</td>\n",
       "      <td>2880101</td>\n",
       "      <td>2501565</td>\n",
       "      <td>419613</td>\n",
       "    </tr>\n",
       "    <tr>\n",
       "      <th>17</th>\n",
       "      <td>17</td>\n",
       "      <td>1402686</td>\n",
       "      <td>510655</td>\n",
       "      <td>1001866</td>\n",
       "      <td>3238994</td>\n",
       "    </tr>\n",
       "    <tr>\n",
       "      <th>18</th>\n",
       "      <td>18</td>\n",
       "      <td>1074680</td>\n",
       "      <td>856892</td>\n",
       "      <td>3454465</td>\n",
       "      <td>1006871</td>\n",
       "    </tr>\n",
       "    <tr>\n",
       "      <th>19</th>\n",
       "      <td>19</td>\n",
       "      <td>4950357</td>\n",
       "      <td>1022694</td>\n",
       "      <td>1951735</td>\n",
       "      <td>8667138</td>\n",
       "    </tr>\n",
       "    <tr>\n",
       "      <th>20</th>\n",
       "      <td>20</td>\n",
       "      <td>10285507</td>\n",
       "      <td>25388078</td>\n",
       "      <td>8714347</td>\n",
       "      <td>2352868</td>\n",
       "    </tr>\n",
       "  </tbody>\n",
       "</table>\n",
       "</div>"
      ],
      "text/plain": [
       "    grp_cln       AME  AMO hors CMU-C     CMU-C       SUV\n",
       "1         1  20617406         8283913  11523288  25851013\n",
       "2         2   3199503         1023030   2580257   2394628\n",
       "3         3   9884287         2878115   4131890  11603098\n",
       "4         4    318548          395499    889649   2113306\n",
       "5         5   2171955          548964   1640605   3634645\n",
       "6         6   5874335         1391767   2627791  10330676\n",
       "7         7   1163681         3246447   3571831    240225\n",
       "8         8   3551417         5742425   4433755   5293423\n",
       "9         9   8342904         5078428   5074877   5907470\n",
       "10       10    534123          649248   1243098     85157\n",
       "11       11    129173          202317    334838    167372\n",
       "12       12   1316622         1890336  10362040   1746760\n",
       "13       13   1441873          919977   2669133   2337897\n",
       "14       14  20109160        34275631  26708121  10480819\n",
       "15       15   1801107         2815473   4584839   2128017\n",
       "16       16   1830666         2880101   2501565    419613\n",
       "17       17   1402686          510655   1001866   3238994\n",
       "18       18   1074680          856892   3454465   1006871\n",
       "19       19   4950357         1022694   1951735   8667138\n",
       "20       20  10285507        25388078   8714347   2352868"
      ]
     },
     "execution_count": 96,
     "metadata": {},
     "output_type": "execute_result"
    }
   ],
   "source": [
    "df_cg"
   ]
  },
  {
   "cell_type": "code",
   "execution_count": 97,
   "id": "18130916",
   "metadata": {},
   "outputs": [],
   "source": [
    "cont = df_cg[df_cg.columns[1:]].to_numpy()"
   ]
  },
  {
   "cell_type": "code",
   "execution_count": 98,
   "id": "3896bd81",
   "metadata": {},
   "outputs": [
    {
     "data": {
      "text/plain": [
       "array([[20617406,  8283913, 11523288, 25851013],\n",
       "       [ 3199503,  1023030,  2580257,  2394628],\n",
       "       [ 9884287,  2878115,  4131890, 11603098],\n",
       "       [  318548,   395499,   889649,  2113306],\n",
       "       [ 2171955,   548964,  1640605,  3634645],\n",
       "       [ 5874335,  1391767,  2627791, 10330676],\n",
       "       [ 1163681,  3246447,  3571831,   240225],\n",
       "       [ 3551417,  5742425,  4433755,  5293423],\n",
       "       [ 8342904,  5078428,  5074877,  5907470],\n",
       "       [  534123,   649248,  1243098,    85157],\n",
       "       [  129173,   202317,   334838,   167372],\n",
       "       [ 1316622,  1890336, 10362040,  1746760],\n",
       "       [ 1441873,   919977,  2669133,  2337897],\n",
       "       [20109160, 34275631, 26708121, 10480819],\n",
       "       [ 1801107,  2815473,  4584839,  2128017],\n",
       "       [ 1830666,  2880101,  2501565,   419613],\n",
       "       [ 1402686,   510655,  1001866,  3238994],\n",
       "       [ 1074680,   856892,  3454465,  1006871],\n",
       "       [ 4950357,  1022694,  1951735,  8667138],\n",
       "       [10285507, 25388078,  8714347,  2352868]])"
      ]
     },
     "execution_count": 98,
     "metadata": {},
     "output_type": "execute_result"
    }
   ],
   "source": [
    "cont"
   ]
  },
  {
   "cell_type": "code",
   "execution_count": 99,
   "id": "95ea758a",
   "metadata": {},
   "outputs": [],
   "source": [
    "chi2, p, dof, expec = stats.chi2_contingency(cont)"
   ]
  },
  {
   "cell_type": "code",
   "execution_count": 100,
   "id": "c03d4209",
   "metadata": {},
   "outputs": [
    {
     "name": "stdout",
     "output_type": "stream",
     "text": [
      "chi2 stat: 113052966.77863106, p_value: 0.0\n"
     ]
    }
   ],
   "source": [
    "print(f'chi2 stat: {chi2}, p_value: {p}')"
   ]
  },
  {
   "cell_type": "markdown",
   "id": "565889a5",
   "metadata": {},
   "source": [
    "We reject $H_{0}$"
   ]
  },
  {
   "cell_type": "markdown",
   "id": "0e9e417d",
   "metadata": {},
   "source": [
    "## Hemodialysis Total Cost, all years, stay focused and according to system"
   ]
  },
  {
   "cell_type": "markdown",
   "id": "12fa8d38",
   "metadata": {},
   "source": [
    "Let's model the total cost per system $Y$ as a compound Poisson random variable.\n",
    "\n",
    "$$\n",
    "Y=\\sum_{i=1}^{N} X_{i}\n",
    "$$\n",
    "* $X_i$ refers to the cost of the admisssion $i$, $X_1,X_2,..$ are assumed to be $iid$ for the same law as $X$. Furthermore, they are deemed as independent from $N$.\n",
    "* The number of admission $N \\approx \\mathcal{P}(\\lambda)$, with $\\lambda$ unknown.\n",
    "* $\\mu_{1} = E(X)$, estimated through the empirical moment estimator $\\hat{\\mu_{1}}$\n",
    "* $\\mu_{2} = E(X^{2})$, estimated through the empirical moment estimator $\\hat{\\mu_{2}}$\n",
    "\n",
    "Some calculus gives us the following quadratic equation in $\\theta = E(Y)$ :\n",
    "\n",
    "$$\n",
    "\\theta^{2}-\\left(2 Y+z_{*}^{2} \\frac{\\hat{\\mu}_{2}}{\\hat{\\mu}_{1}}\\right) \\theta+Y^{2}=0\n",
    "$$\n",
    "\n",
    "* Solving this equation for $z_{*} = 1,96$ gives the two extremeties of a 95% confidence interval for $\\theta$\n",
    "\n",
    "The idea is to check whether or not the CIs intersect across systems.\n",
    "\n"
   ]
  },
  {
   "cell_type": "code",
   "execution_count": 101,
   "id": "c445547d",
   "metadata": {},
   "outputs": [],
   "source": [
    "def generate_ic(Y,N,mu_1,mu_2,conf):\n",
    "    \n",
    "    z = norm.ppf(conf)\n",
    "    \n",
    "    a = 1\n",
    "    b = -(2*Y + (z**2)*(mu_2/mu_1))\n",
    "    c = Y**2\n",
    "    \n",
    "    delta = b**2 - 4*a*c\n",
    "    \n",
    "    l_ci = (-b - math.sqrt(delta))/(2*a)\n",
    "    h_ci = (-b + math.sqrt(delta))/(2*a)\n",
    "    \n",
    "    return l_ci, h_ci\n",
    "        "
   ]
  },
  {
   "cell_type": "markdown",
   "id": "532a67ac",
   "metadata": {},
   "source": [
    "### Computing $Y$, $N$,$\\hat{\\mu_{1}}$,$\\hat{\\mu_{2}}$ and generating $\\theta$ confidence intervalls for each system\n"
   ]
  },
  {
   "cell_type": "code",
   "execution_count": 102,
   "id": "39368d59",
   "metadata": {},
   "outputs": [
    {
     "name": "stderr",
     "output_type": "stream",
     "text": [
      "C:\\ProgramData\\Anaconda3\\lib\\site-packages\\IPython\\core\\interactiveshell.py:3165: DtypeWarning: Columns (1,6,21,22,26,30,33,34,44) have mixed types.Specify dtype option on import or set low_memory=False.\n",
      "  has_raised = await self.run_ast_nodes(code_ast.body, cell_name,\n"
     ]
    }
   ],
   "source": [
    "df = pd.read_csv('pmsi_analysis_v14.csv')\n",
    "df.drop('Unnamed: 0',axis=1,inplace=True)"
   ]
  },
  {
   "cell_type": "markdown",
   "id": "e1ad3789",
   "metadata": {},
   "source": [
    "#### AME"
   ]
  },
  {
   "cell_type": "code",
   "execution_count": 103,
   "id": "daeb7359",
   "metadata": {},
   "outputs": [
    {
     "data": {
      "text/plain": [
       "2474"
      ]
     },
     "execution_count": 103,
     "metadata": {},
     "output_type": "execute_result"
    }
   ],
   "source": [
    "df['Libellé GHM'].nunique()"
   ]
  },
  {
   "cell_type": "code",
   "execution_count": 104,
   "id": "d4f28c85",
   "metadata": {},
   "outputs": [],
   "source": [
    "hem = (df['raison']=='AME')&(df['Libellé GHM']=='Hémodialyse, en séances')\n",
    "Y= df[hem]['cost'].sum()\n",
    "N = len(df[hem]['cost'])\n",
    "mu_1_ame = df[hem]['cost'].mean()\n",
    "mu_2_ame = (df[hem]['cost']**2).mean()"
   ]
  },
  {
   "cell_type": "code",
   "execution_count": 109,
   "id": "33d98537",
   "metadata": {},
   "outputs": [
    {
     "data": {
      "text/plain": [
       "6962406.870203313"
      ]
     },
     "execution_count": 109,
     "metadata": {},
     "output_type": "execute_result"
    }
   ],
   "source": [
    "Y"
   ]
  },
  {
   "cell_type": "code",
   "execution_count": 105,
   "id": "1d70a9ac",
   "metadata": {},
   "outputs": [
    {
     "data": {
      "text/plain": [
       "(64353999.20010129, 65445884.196268015)"
      ]
     },
     "execution_count": 105,
     "metadata": {},
     "output_type": "execute_result"
    }
   ],
   "source": [
    "generate_ic(Y,N,mu_1_ame,mu_2_ame,conf=0.95)"
   ]
  },
  {
   "cell_type": "markdown",
   "id": "293ca0ff",
   "metadata": {},
   "source": [
    "#### SUV"
   ]
  },
  {
   "cell_type": "code",
   "execution_count": 106,
   "id": "f47c01af",
   "metadata": {},
   "outputs": [],
   "source": [
    "hem = (df['raison']=='SUV')&(df['Libellé GHM']=='Hémodialyse, en séances')\n",
    "Y= df[hem]['cost'].sum()\n",
    "N = len(df[hem]['cost'])\n",
    "mu_1_suv = df[hem]['cost'].mean()\n",
    "mu_2_suv = (df[hem]['cost']**2).mean()"
   ]
  },
  {
   "cell_type": "code",
   "execution_count": 107,
   "id": "60cecceb",
   "metadata": {},
   "outputs": [
    {
     "data": {
      "text/plain": [
       "6962406.870203313"
      ]
     },
     "execution_count": 107,
     "metadata": {},
     "output_type": "execute_result"
    }
   ],
   "source": [
    "Y"
   ]
  },
  {
   "cell_type": "code",
   "execution_count": 108,
   "id": "605ddd67",
   "metadata": {},
   "outputs": [
    {
     "data": {
      "text/plain": [
       "(6814081.672534358, 7113960.729535103)"
      ]
     },
     "execution_count": 108,
     "metadata": {},
     "output_type": "execute_result"
    }
   ],
   "source": [
    "generate_ic(Y,N,mu_1_suv,mu_2_suv,conf=0.95)"
   ]
  },
  {
   "cell_type": "markdown",
   "id": "091c6140",
   "metadata": {},
   "source": [
    "#### CMU-C"
   ]
  },
  {
   "cell_type": "code",
   "execution_count": 110,
   "id": "c2119f1e",
   "metadata": {},
   "outputs": [],
   "source": [
    "hem = (df['raison']=='CMU-C')&(df['Libellé GHM']=='Hémodialyse, en séances')\n",
    "Y= df[hem]['cost'].sum()\n",
    "N = len(df[hem]['cost'])\n",
    "mu_1_cmuc = df[hem]['cost'].mean()\n",
    "mu_2_cmuc = (df[hem]['cost']**2).mean()"
   ]
  },
  {
   "cell_type": "code",
   "execution_count": 111,
   "id": "4961845e",
   "metadata": {},
   "outputs": [
    {
     "data": {
      "text/plain": [
       "15365557.262149628"
      ]
     },
     "execution_count": 111,
     "metadata": {},
     "output_type": "execute_result"
    }
   ],
   "source": [
    "Y"
   ]
  },
  {
   "cell_type": "code",
   "execution_count": 112,
   "id": "4cb6902c",
   "metadata": {},
   "outputs": [
    {
     "data": {
      "text/plain": [
       "(15031198.904664442, 15707353.18412513)"
      ]
     },
     "execution_count": 112,
     "metadata": {},
     "output_type": "execute_result"
    }
   ],
   "source": [
    "generate_ic(Y,N,mu_1_cmuc,mu_2_cmuc,conf=0.95)"
   ]
  },
  {
   "cell_type": "markdown",
   "id": "d1fbe6b7",
   "metadata": {},
   "source": [
    "#### AMO"
   ]
  },
  {
   "cell_type": "code",
   "execution_count": 113,
   "id": "9670ebca",
   "metadata": {},
   "outputs": [],
   "source": [
    "hem = (df['raison']=='AMO hors CMU-C')&(df['Libellé GHM']=='Hémodialyse, en séances')\n",
    "Y= df[hem]['cost'].sum()\n",
    "N = len(df[hem]['cost'])\n",
    "mu_1_amo = df[hem]['cost'].mean()\n",
    "mu_2_amo = (df[hem]['cost']**2).mean()"
   ]
  },
  {
   "cell_type": "code",
   "execution_count": 114,
   "id": "4c83b8a1",
   "metadata": {},
   "outputs": [
    {
     "data": {
      "text/plain": [
       "46162809.090261616"
      ]
     },
     "execution_count": 114,
     "metadata": {},
     "output_type": "execute_result"
    }
   ],
   "source": [
    "Y"
   ]
  },
  {
   "cell_type": "code",
   "execution_count": 115,
   "id": "70000727",
   "metadata": {},
   "outputs": [
    {
     "data": {
      "text/plain": [
       "(45603002.8781383, 46729487.28395092)"
      ]
     },
     "execution_count": 115,
     "metadata": {},
     "output_type": "execute_result"
    }
   ],
   "source": [
    "generate_ic(Y,N,mu_1_amo,mu_2_amo,conf=0.95)"
   ]
  },
  {
   "cell_type": "markdown",
   "id": "b92f33d4",
   "metadata": {},
   "source": [
    "## Severity repartition across systems, all years, stay focused"
   ]
  },
  {
   "cell_type": "markdown",
   "id": "5aa94216",
   "metadata": {},
   "source": [
    "We aim to perform the following $\\chi^{2}$ test :\n",
    "\n",
    "$$\n",
    "\\begin{cases}H_{0}: & \\text { grp_cln and raison are independant } \\\\ H_{1}: & \\text { grp_cln and raison are dependant }\\end{cases}\n",
    "$$"
   ]
  },
  {
   "cell_type": "code",
   "execution_count": 91,
   "id": "b55ea3c3",
   "metadata": {},
   "outputs": [],
   "source": [
    "df = pd.read_csv('pmsi_analysis_v14.csv')\n",
    "df.drop('Unnamed: 0',axis=1,inplace=True)"
   ]
  },
  {
   "cell_type": "code",
   "execution_count": 92,
   "id": "3355031f",
   "metadata": {},
   "outputs": [
    {
     "data": {
      "text/plain": [
       "array(['2', '3', '1', 'Pas de niveau de sévérité', '4', 1, 3, 2, 4],\n",
       "      dtype=object)"
      ]
     },
     "execution_count": 92,
     "metadata": {},
     "output_type": "execute_result"
    }
   ],
   "source": [
    "df['severity'].unique()"
   ]
  },
  {
   "cell_type": "code",
   "execution_count": 93,
   "id": "6a4e1f8b",
   "metadata": {},
   "outputs": [],
   "source": [
    "df['severity'] = df['severity'].astype(str)\n",
    "df = df[df['severity']!='Pas de niveau de sévérité']"
   ]
  },
  {
   "cell_type": "code",
   "execution_count": 94,
   "id": "bf805c30",
   "metadata": {},
   "outputs": [
    {
     "data": {
      "text/plain": [
       "Index(['finess', 'mois', 'annee', 'sexe', 'ghm2', 'GHS', 'age', 'duree',\n",
       "       'supp_rea', 'supp_si', 'supp_stf', 'supp_src', 'supp_nn1', 'supp_nn2',\n",
       "       'supp_nn3', 'supp_rep', 'ano_date', 'anonyme', 'nbActe', 'nbRum',\n",
       "       'modeEntree', 'provenance', 'modeSortie', 'motif', 'dp', 'dr', 'cost',\n",
       "       'raison', 'hp_type', 'severity', 'ghm_racine', 'cmd', 'departement',\n",
       "       'id_dep', 'region_label', 'population_region', 'Libellé GHM', 'racine',\n",
       "       'Libellé GHM Racine', 'label_cmd', 'lib_dp', 'region',\n",
       "       'effectif_region_2020', 'grp_cln'],\n",
       "      dtype='object')"
      ]
     },
     "execution_count": 94,
     "metadata": {},
     "output_type": "execute_result"
    }
   ],
   "source": [
    "df.columns"
   ]
  },
  {
   "cell_type": "code",
   "execution_count": 95,
   "id": "41859e26",
   "metadata": {},
   "outputs": [],
   "source": [
    "df_cg = df.groupby(['raison','severity']).agg({'anonyme':'count'})\n",
    "df_cg = df_cg.reset_index()"
   ]
  },
  {
   "cell_type": "code",
   "execution_count": 96,
   "id": "79e3951b",
   "metadata": {},
   "outputs": [
    {
     "data": {
      "text/html": [
       "<div>\n",
       "<style scoped>\n",
       "    .dataframe tbody tr th:only-of-type {\n",
       "        vertical-align: middle;\n",
       "    }\n",
       "\n",
       "    .dataframe tbody tr th {\n",
       "        vertical-align: top;\n",
       "    }\n",
       "\n",
       "    .dataframe thead th {\n",
       "        text-align: right;\n",
       "    }\n",
       "</style>\n",
       "<table border=\"1\" class=\"dataframe\">\n",
       "  <thead>\n",
       "    <tr style=\"text-align: right;\">\n",
       "      <th></th>\n",
       "      <th>raison</th>\n",
       "      <th>severity</th>\n",
       "      <th>anonyme</th>\n",
       "    </tr>\n",
       "  </thead>\n",
       "  <tbody>\n",
       "    <tr>\n",
       "      <th>0</th>\n",
       "      <td>AME</td>\n",
       "      <td>1</td>\n",
       "      <td>168161</td>\n",
       "    </tr>\n",
       "    <tr>\n",
       "      <th>1</th>\n",
       "      <td>AME</td>\n",
       "      <td>2</td>\n",
       "      <td>65255</td>\n",
       "    </tr>\n",
       "    <tr>\n",
       "      <th>2</th>\n",
       "      <td>AME</td>\n",
       "      <td>3</td>\n",
       "      <td>34220</td>\n",
       "    </tr>\n",
       "    <tr>\n",
       "      <th>3</th>\n",
       "      <td>AME</td>\n",
       "      <td>4</td>\n",
       "      <td>14911</td>\n",
       "    </tr>\n",
       "    <tr>\n",
       "      <th>4</th>\n",
       "      <td>AMO hors CMU-C</td>\n",
       "      <td>1</td>\n",
       "      <td>181076</td>\n",
       "    </tr>\n",
       "    <tr>\n",
       "      <th>5</th>\n",
       "      <td>AMO hors CMU-C</td>\n",
       "      <td>2</td>\n",
       "      <td>87864</td>\n",
       "    </tr>\n",
       "    <tr>\n",
       "      <th>6</th>\n",
       "      <td>AMO hors CMU-C</td>\n",
       "      <td>3</td>\n",
       "      <td>72421</td>\n",
       "    </tr>\n",
       "    <tr>\n",
       "      <th>7</th>\n",
       "      <td>AMO hors CMU-C</td>\n",
       "      <td>4</td>\n",
       "      <td>25149</td>\n",
       "    </tr>\n",
       "    <tr>\n",
       "      <th>8</th>\n",
       "      <td>CMU-C</td>\n",
       "      <td>1</td>\n",
       "      <td>202990</td>\n",
       "    </tr>\n",
       "    <tr>\n",
       "      <th>9</th>\n",
       "      <td>CMU-C</td>\n",
       "      <td>2</td>\n",
       "      <td>69932</td>\n",
       "    </tr>\n",
       "    <tr>\n",
       "      <th>10</th>\n",
       "      <td>CMU-C</td>\n",
       "      <td>3</td>\n",
       "      <td>40060</td>\n",
       "    </tr>\n",
       "    <tr>\n",
       "      <th>11</th>\n",
       "      <td>CMU-C</td>\n",
       "      <td>4</td>\n",
       "      <td>15523</td>\n",
       "    </tr>\n",
       "    <tr>\n",
       "      <th>12</th>\n",
       "      <td>SUV</td>\n",
       "      <td>1</td>\n",
       "      <td>27904</td>\n",
       "    </tr>\n",
       "    <tr>\n",
       "      <th>13</th>\n",
       "      <td>SUV</td>\n",
       "      <td>2</td>\n",
       "      <td>11805</td>\n",
       "    </tr>\n",
       "    <tr>\n",
       "      <th>14</th>\n",
       "      <td>SUV</td>\n",
       "      <td>3</td>\n",
       "      <td>7902</td>\n",
       "    </tr>\n",
       "    <tr>\n",
       "      <th>15</th>\n",
       "      <td>SUV</td>\n",
       "      <td>4</td>\n",
       "      <td>3728</td>\n",
       "    </tr>\n",
       "  </tbody>\n",
       "</table>\n",
       "</div>"
      ],
      "text/plain": [
       "            raison severity  anonyme\n",
       "0              AME        1   168161\n",
       "1              AME        2    65255\n",
       "2              AME        3    34220\n",
       "3              AME        4    14911\n",
       "4   AMO hors CMU-C        1   181076\n",
       "5   AMO hors CMU-C        2    87864\n",
       "6   AMO hors CMU-C        3    72421\n",
       "7   AMO hors CMU-C        4    25149\n",
       "8            CMU-C        1   202990\n",
       "9            CMU-C        2    69932\n",
       "10           CMU-C        3    40060\n",
       "11           CMU-C        4    15523\n",
       "12             SUV        1    27904\n",
       "13             SUV        2    11805\n",
       "14             SUV        3     7902\n",
       "15             SUV        4     3728"
      ]
     },
     "execution_count": 96,
     "metadata": {},
     "output_type": "execute_result"
    }
   ],
   "source": [
    "df_cg"
   ]
  },
  {
   "cell_type": "code",
   "execution_count": 97,
   "id": "669b1805",
   "metadata": {},
   "outputs": [],
   "source": [
    "df_r = df_cg.groupby(['raison']).agg({'anonyme':'sum'})\n",
    "df_r = df_r.reset_index()"
   ]
  },
  {
   "cell_type": "code",
   "execution_count": 98,
   "id": "23b9e734",
   "metadata": {},
   "outputs": [
    {
     "data": {
      "text/html": [
       "<div>\n",
       "<style scoped>\n",
       "    .dataframe tbody tr th:only-of-type {\n",
       "        vertical-align: middle;\n",
       "    }\n",
       "\n",
       "    .dataframe tbody tr th {\n",
       "        vertical-align: top;\n",
       "    }\n",
       "\n",
       "    .dataframe thead th {\n",
       "        text-align: right;\n",
       "    }\n",
       "</style>\n",
       "<table border=\"1\" class=\"dataframe\">\n",
       "  <thead>\n",
       "    <tr style=\"text-align: right;\">\n",
       "      <th></th>\n",
       "      <th>raison</th>\n",
       "      <th>anonyme</th>\n",
       "    </tr>\n",
       "  </thead>\n",
       "  <tbody>\n",
       "    <tr>\n",
       "      <th>0</th>\n",
       "      <td>AME</td>\n",
       "      <td>282547</td>\n",
       "    </tr>\n",
       "    <tr>\n",
       "      <th>1</th>\n",
       "      <td>AMO hors CMU-C</td>\n",
       "      <td>366510</td>\n",
       "    </tr>\n",
       "    <tr>\n",
       "      <th>2</th>\n",
       "      <td>CMU-C</td>\n",
       "      <td>328505</td>\n",
       "    </tr>\n",
       "    <tr>\n",
       "      <th>3</th>\n",
       "      <td>SUV</td>\n",
       "      <td>51339</td>\n",
       "    </tr>\n",
       "  </tbody>\n",
       "</table>\n",
       "</div>"
      ],
      "text/plain": [
       "           raison  anonyme\n",
       "0             AME   282547\n",
       "1  AMO hors CMU-C   366510\n",
       "2           CMU-C   328505\n",
       "3             SUV    51339"
      ]
     },
     "execution_count": 98,
     "metadata": {},
     "output_type": "execute_result"
    }
   ],
   "source": [
    "df_r"
   ]
  },
  {
   "cell_type": "code",
   "execution_count": 99,
   "id": "da654229",
   "metadata": {},
   "outputs": [],
   "source": [
    "sys_tot = [x_ar for x_ar in df_r['anonyme'].values for i in range(4)]"
   ]
  },
  {
   "cell_type": "code",
   "execution_count": 100,
   "id": "88b1f4a8",
   "metadata": {},
   "outputs": [],
   "source": [
    "df_cg['system_total'] = sys_tot"
   ]
  },
  {
   "cell_type": "code",
   "execution_count": 101,
   "id": "10f6acbc",
   "metadata": {},
   "outputs": [],
   "source": [
    "df_cg['% of system'] = df_cg['anonyme']/df_cg['system_total'] *100"
   ]
  },
  {
   "cell_type": "code",
   "execution_count": 102,
   "id": "a59cc3a6",
   "metadata": {},
   "outputs": [
    {
     "data": {
      "text/html": [
       "<div>\n",
       "<style scoped>\n",
       "    .dataframe tbody tr th:only-of-type {\n",
       "        vertical-align: middle;\n",
       "    }\n",
       "\n",
       "    .dataframe tbody tr th {\n",
       "        vertical-align: top;\n",
       "    }\n",
       "\n",
       "    .dataframe thead th {\n",
       "        text-align: right;\n",
       "    }\n",
       "</style>\n",
       "<table border=\"1\" class=\"dataframe\">\n",
       "  <thead>\n",
       "    <tr style=\"text-align: right;\">\n",
       "      <th></th>\n",
       "      <th>raison</th>\n",
       "      <th>severity</th>\n",
       "      <th>anonyme</th>\n",
       "      <th>system_total</th>\n",
       "      <th>% of system</th>\n",
       "    </tr>\n",
       "  </thead>\n",
       "  <tbody>\n",
       "    <tr>\n",
       "      <th>0</th>\n",
       "      <td>AME</td>\n",
       "      <td>1</td>\n",
       "      <td>168161</td>\n",
       "      <td>282547</td>\n",
       "      <td>59.516116</td>\n",
       "    </tr>\n",
       "    <tr>\n",
       "      <th>1</th>\n",
       "      <td>AME</td>\n",
       "      <td>2</td>\n",
       "      <td>65255</td>\n",
       "      <td>282547</td>\n",
       "      <td>23.095273</td>\n",
       "    </tr>\n",
       "    <tr>\n",
       "      <th>2</th>\n",
       "      <td>AME</td>\n",
       "      <td>3</td>\n",
       "      <td>34220</td>\n",
       "      <td>282547</td>\n",
       "      <td>12.111259</td>\n",
       "    </tr>\n",
       "    <tr>\n",
       "      <th>3</th>\n",
       "      <td>AME</td>\n",
       "      <td>4</td>\n",
       "      <td>14911</td>\n",
       "      <td>282547</td>\n",
       "      <td>5.277352</td>\n",
       "    </tr>\n",
       "  </tbody>\n",
       "</table>\n",
       "</div>"
      ],
      "text/plain": [
       "  raison severity  anonyme  system_total  % of system\n",
       "0    AME        1   168161        282547    59.516116\n",
       "1    AME        2    65255        282547    23.095273\n",
       "2    AME        3    34220        282547    12.111259\n",
       "3    AME        4    14911        282547     5.277352"
      ]
     },
     "execution_count": 102,
     "metadata": {},
     "output_type": "execute_result"
    }
   ],
   "source": [
    "df_cg[df_cg['raison']=='AME']"
   ]
  },
  {
   "cell_type": "code",
   "execution_count": 103,
   "id": "d48fbc5b",
   "metadata": {},
   "outputs": [
    {
     "data": {
      "text/html": [
       "<div>\n",
       "<style scoped>\n",
       "    .dataframe tbody tr th:only-of-type {\n",
       "        vertical-align: middle;\n",
       "    }\n",
       "\n",
       "    .dataframe tbody tr th {\n",
       "        vertical-align: top;\n",
       "    }\n",
       "\n",
       "    .dataframe thead th {\n",
       "        text-align: right;\n",
       "    }\n",
       "</style>\n",
       "<table border=\"1\" class=\"dataframe\">\n",
       "  <thead>\n",
       "    <tr style=\"text-align: right;\">\n",
       "      <th></th>\n",
       "      <th>raison</th>\n",
       "      <th>severity</th>\n",
       "      <th>anonyme</th>\n",
       "      <th>system_total</th>\n",
       "      <th>% of system</th>\n",
       "    </tr>\n",
       "  </thead>\n",
       "  <tbody>\n",
       "    <tr>\n",
       "      <th>0</th>\n",
       "      <td>AME</td>\n",
       "      <td>1</td>\n",
       "      <td>168161</td>\n",
       "      <td>282547</td>\n",
       "      <td>59.516116</td>\n",
       "    </tr>\n",
       "    <tr>\n",
       "      <th>1</th>\n",
       "      <td>AME</td>\n",
       "      <td>2</td>\n",
       "      <td>65255</td>\n",
       "      <td>282547</td>\n",
       "      <td>23.095273</td>\n",
       "    </tr>\n",
       "    <tr>\n",
       "      <th>2</th>\n",
       "      <td>AME</td>\n",
       "      <td>3</td>\n",
       "      <td>34220</td>\n",
       "      <td>282547</td>\n",
       "      <td>12.111259</td>\n",
       "    </tr>\n",
       "    <tr>\n",
       "      <th>3</th>\n",
       "      <td>AME</td>\n",
       "      <td>4</td>\n",
       "      <td>14911</td>\n",
       "      <td>282547</td>\n",
       "      <td>5.277352</td>\n",
       "    </tr>\n",
       "    <tr>\n",
       "      <th>4</th>\n",
       "      <td>AMO hors CMU-C</td>\n",
       "      <td>1</td>\n",
       "      <td>181076</td>\n",
       "      <td>366510</td>\n",
       "      <td>49.405473</td>\n",
       "    </tr>\n",
       "    <tr>\n",
       "      <th>5</th>\n",
       "      <td>AMO hors CMU-C</td>\n",
       "      <td>2</td>\n",
       "      <td>87864</td>\n",
       "      <td>366510</td>\n",
       "      <td>23.973152</td>\n",
       "    </tr>\n",
       "    <tr>\n",
       "      <th>6</th>\n",
       "      <td>AMO hors CMU-C</td>\n",
       "      <td>3</td>\n",
       "      <td>72421</td>\n",
       "      <td>366510</td>\n",
       "      <td>19.759625</td>\n",
       "    </tr>\n",
       "    <tr>\n",
       "      <th>7</th>\n",
       "      <td>AMO hors CMU-C</td>\n",
       "      <td>4</td>\n",
       "      <td>25149</td>\n",
       "      <td>366510</td>\n",
       "      <td>6.861750</td>\n",
       "    </tr>\n",
       "    <tr>\n",
       "      <th>8</th>\n",
       "      <td>CMU-C</td>\n",
       "      <td>1</td>\n",
       "      <td>202990</td>\n",
       "      <td>328505</td>\n",
       "      <td>61.792058</td>\n",
       "    </tr>\n",
       "    <tr>\n",
       "      <th>9</th>\n",
       "      <td>CMU-C</td>\n",
       "      <td>2</td>\n",
       "      <td>69932</td>\n",
       "      <td>328505</td>\n",
       "      <td>21.287956</td>\n",
       "    </tr>\n",
       "    <tr>\n",
       "      <th>10</th>\n",
       "      <td>CMU-C</td>\n",
       "      <td>3</td>\n",
       "      <td>40060</td>\n",
       "      <td>328505</td>\n",
       "      <td>12.194639</td>\n",
       "    </tr>\n",
       "    <tr>\n",
       "      <th>11</th>\n",
       "      <td>CMU-C</td>\n",
       "      <td>4</td>\n",
       "      <td>15523</td>\n",
       "      <td>328505</td>\n",
       "      <td>4.725347</td>\n",
       "    </tr>\n",
       "    <tr>\n",
       "      <th>12</th>\n",
       "      <td>SUV</td>\n",
       "      <td>1</td>\n",
       "      <td>27904</td>\n",
       "      <td>51339</td>\n",
       "      <td>54.352442</td>\n",
       "    </tr>\n",
       "    <tr>\n",
       "      <th>13</th>\n",
       "      <td>SUV</td>\n",
       "      <td>2</td>\n",
       "      <td>11805</td>\n",
       "      <td>51339</td>\n",
       "      <td>22.994215</td>\n",
       "    </tr>\n",
       "    <tr>\n",
       "      <th>14</th>\n",
       "      <td>SUV</td>\n",
       "      <td>3</td>\n",
       "      <td>7902</td>\n",
       "      <td>51339</td>\n",
       "      <td>15.391807</td>\n",
       "    </tr>\n",
       "    <tr>\n",
       "      <th>15</th>\n",
       "      <td>SUV</td>\n",
       "      <td>4</td>\n",
       "      <td>3728</td>\n",
       "      <td>51339</td>\n",
       "      <td>7.261536</td>\n",
       "    </tr>\n",
       "  </tbody>\n",
       "</table>\n",
       "</div>"
      ],
      "text/plain": [
       "            raison severity  anonyme  system_total  % of system\n",
       "0              AME        1   168161        282547    59.516116\n",
       "1              AME        2    65255        282547    23.095273\n",
       "2              AME        3    34220        282547    12.111259\n",
       "3              AME        4    14911        282547     5.277352\n",
       "4   AMO hors CMU-C        1   181076        366510    49.405473\n",
       "5   AMO hors CMU-C        2    87864        366510    23.973152\n",
       "6   AMO hors CMU-C        3    72421        366510    19.759625\n",
       "7   AMO hors CMU-C        4    25149        366510     6.861750\n",
       "8            CMU-C        1   202990        328505    61.792058\n",
       "9            CMU-C        2    69932        328505    21.287956\n",
       "10           CMU-C        3    40060        328505    12.194639\n",
       "11           CMU-C        4    15523        328505     4.725347\n",
       "12             SUV        1    27904         51339    54.352442\n",
       "13             SUV        2    11805         51339    22.994215\n",
       "14             SUV        3     7902         51339    15.391807\n",
       "15             SUV        4     3728         51339     7.261536"
      ]
     },
     "execution_count": 103,
     "metadata": {},
     "output_type": "execute_result"
    }
   ],
   "source": [
    "df_cg"
   ]
  },
  {
   "cell_type": "code",
   "execution_count": 104,
   "id": "6dd62156",
   "metadata": {},
   "outputs": [],
   "source": [
    "df_cg = df_cg.pivot_table('anonyme', ['severity'], 'raison')\n",
    "df_cg = df_cg.reset_index()\n",
    "df_cg = df_cg.rename_axis(None, axis=1)\n",
    "df_cg['severity'] = df_cg['severity'].astype('int')\n",
    "df_cg = df_cg.sort_values(by='severity')\n",
    "df_cg.index = range(1,len(df_cg)+1)"
   ]
  },
  {
   "cell_type": "code",
   "execution_count": 105,
   "id": "dfada1ef",
   "metadata": {},
   "outputs": [
    {
     "data": {
      "text/html": [
       "<div>\n",
       "<style scoped>\n",
       "    .dataframe tbody tr th:only-of-type {\n",
       "        vertical-align: middle;\n",
       "    }\n",
       "\n",
       "    .dataframe tbody tr th {\n",
       "        vertical-align: top;\n",
       "    }\n",
       "\n",
       "    .dataframe thead th {\n",
       "        text-align: right;\n",
       "    }\n",
       "</style>\n",
       "<table border=\"1\" class=\"dataframe\">\n",
       "  <thead>\n",
       "    <tr style=\"text-align: right;\">\n",
       "      <th></th>\n",
       "      <th>severity</th>\n",
       "      <th>AME</th>\n",
       "      <th>AMO hors CMU-C</th>\n",
       "      <th>CMU-C</th>\n",
       "      <th>SUV</th>\n",
       "    </tr>\n",
       "  </thead>\n",
       "  <tbody>\n",
       "    <tr>\n",
       "      <th>1</th>\n",
       "      <td>1</td>\n",
       "      <td>168161</td>\n",
       "      <td>181076</td>\n",
       "      <td>202990</td>\n",
       "      <td>27904</td>\n",
       "    </tr>\n",
       "    <tr>\n",
       "      <th>2</th>\n",
       "      <td>2</td>\n",
       "      <td>65255</td>\n",
       "      <td>87864</td>\n",
       "      <td>69932</td>\n",
       "      <td>11805</td>\n",
       "    </tr>\n",
       "    <tr>\n",
       "      <th>3</th>\n",
       "      <td>3</td>\n",
       "      <td>34220</td>\n",
       "      <td>72421</td>\n",
       "      <td>40060</td>\n",
       "      <td>7902</td>\n",
       "    </tr>\n",
       "    <tr>\n",
       "      <th>4</th>\n",
       "      <td>4</td>\n",
       "      <td>14911</td>\n",
       "      <td>25149</td>\n",
       "      <td>15523</td>\n",
       "      <td>3728</td>\n",
       "    </tr>\n",
       "  </tbody>\n",
       "</table>\n",
       "</div>"
      ],
      "text/plain": [
       "   severity     AME  AMO hors CMU-C   CMU-C    SUV\n",
       "1         1  168161          181076  202990  27904\n",
       "2         2   65255           87864   69932  11805\n",
       "3         3   34220           72421   40060   7902\n",
       "4         4   14911           25149   15523   3728"
      ]
     },
     "execution_count": 105,
     "metadata": {},
     "output_type": "execute_result"
    }
   ],
   "source": [
    "df_cg"
   ]
  },
  {
   "cell_type": "code",
   "execution_count": 106,
   "id": "50410bbb",
   "metadata": {},
   "outputs": [],
   "source": [
    "cont = df_cg[df_cg.columns[1:]].to_numpy()"
   ]
  },
  {
   "cell_type": "code",
   "execution_count": 107,
   "id": "53f9d42d",
   "metadata": {},
   "outputs": [
    {
     "data": {
      "text/plain": [
       "array([[168161, 181076, 202990,  27904],\n",
       "       [ 65255,  87864,  69932,  11805],\n",
       "       [ 34220,  72421,  40060,   7902],\n",
       "       [ 14911,  25149,  15523,   3728]], dtype=int64)"
      ]
     },
     "execution_count": 107,
     "metadata": {},
     "output_type": "execute_result"
    }
   ],
   "source": [
    "cont"
   ]
  },
  {
   "cell_type": "code",
   "execution_count": 108,
   "id": "16f985ce",
   "metadata": {},
   "outputs": [],
   "source": [
    "chi2, p, dof, expec = stats.chi2_contingency(cont)"
   ]
  },
  {
   "cell_type": "code",
   "execution_count": 109,
   "id": "093a5f2d",
   "metadata": {},
   "outputs": [
    {
     "name": "stdout",
     "output_type": "stream",
     "text": [
      "chi2 stat: 16477.162049222956, p_value: 0.0\n"
     ]
    }
   ],
   "source": [
    "print(f'chi2 stat: {chi2}, p_value: {p}')"
   ]
  },
  {
   "cell_type": "markdown",
   "id": "352f8b2c",
   "metadata": {},
   "source": [
    "We reject $H_{0}$"
   ]
  },
  {
   "cell_type": "markdown",
   "id": "1e0eb643",
   "metadata": {},
   "source": [
    "## Average supplement, all years, stay focused and according to system"
   ]
  },
  {
   "cell_type": "code",
   "execution_count": 133,
   "id": "689be647",
   "metadata": {},
   "outputs": [],
   "source": [
    "df = pd.read_csv('pmsi_analysis_v14.csv')\n",
    "df.drop('Unnamed: 0',axis=1,inplace=True)"
   ]
  },
  {
   "cell_type": "code",
   "execution_count": 134,
   "id": "bc7569a6",
   "metadata": {},
   "outputs": [],
   "source": [
    "df['sup'] = df['supp_rea'] + df['supp_si'] + df['supp_stf'] + df['supp_src']"
   ]
  },
  {
   "cell_type": "code",
   "execution_count": 135,
   "id": "55efe054",
   "metadata": {},
   "outputs": [],
   "source": [
    "ame_sup = df[df['raison']=='AME']['sup']\n",
    "suv_sup = df[df['raison']=='SUV']['sup']\n",
    "cmuc_sup = df[df['raison']=='CMU-C']['sup']\n",
    "amo_sup = df[df['raison']=='AMO hors CMU-C']['sup']"
   ]
  },
  {
   "cell_type": "markdown",
   "id": "4646120c",
   "metadata": {},
   "source": [
    "### 2-sample t-tests (two-sided)"
   ]
  },
  {
   "cell_type": "markdown",
   "id": "d2151f2e",
   "metadata": {},
   "source": [
    "#### AME vs SUV"
   ]
  },
  {
   "cell_type": "code",
   "execution_count": 136,
   "id": "25e1e88c",
   "metadata": {},
   "outputs": [
    {
     "data": {
      "text/plain": [
       "Ttest_indResult(statistic=-23.560127025660165, pvalue=1.0535892500217554e-122)"
      ]
     },
     "execution_count": 136,
     "metadata": {},
     "output_type": "execute_result"
    }
   ],
   "source": [
    "stats.ttest_ind(ame_sup,suv_sup)"
   ]
  },
  {
   "cell_type": "markdown",
   "id": "9a379487",
   "metadata": {},
   "source": [
    "#### AME vs CMU-C"
   ]
  },
  {
   "cell_type": "code",
   "execution_count": 137,
   "id": "954a57f9",
   "metadata": {},
   "outputs": [
    {
     "data": {
      "text/plain": [
       "Ttest_indResult(statistic=-14.364955913162875, pvalue=8.635694858398821e-47)"
      ]
     },
     "execution_count": 137,
     "metadata": {},
     "output_type": "execute_result"
    }
   ],
   "source": [
    "stats.ttest_ind(ame_sup,cmuc_sup)"
   ]
  },
  {
   "cell_type": "markdown",
   "id": "d76b9b32",
   "metadata": {},
   "source": [
    "#### AME vs AMO"
   ]
  },
  {
   "cell_type": "code",
   "execution_count": 138,
   "id": "e20be269",
   "metadata": {},
   "outputs": [
    {
     "data": {
      "text/plain": [
       "Ttest_indResult(statistic=6.868818672619909, pvalue=6.475196375738712e-12)"
      ]
     },
     "execution_count": 138,
     "metadata": {},
     "output_type": "execute_result"
    }
   ],
   "source": [
    "stats.ttest_ind(ame_sup,amo_sup)"
   ]
  },
  {
   "cell_type": "markdown",
   "id": "aaf2ca42",
   "metadata": {},
   "source": [
    "#### SUV vs CMU-C"
   ]
  },
  {
   "cell_type": "code",
   "execution_count": 139,
   "id": "ac2423d8",
   "metadata": {},
   "outputs": [
    {
     "data": {
      "text/plain": [
       "Ttest_indResult(statistic=17.183990242083798, pvalue=3.584539962692694e-66)"
      ]
     },
     "execution_count": 139,
     "metadata": {},
     "output_type": "execute_result"
    }
   ],
   "source": [
    "stats.ttest_ind(suv_sup,cmuc_sup)"
   ]
  },
  {
   "cell_type": "markdown",
   "id": "57889803",
   "metadata": {},
   "source": [
    "#### SUV vs AMO"
   ]
  },
  {
   "cell_type": "code",
   "execution_count": 140,
   "id": "cf026969",
   "metadata": {},
   "outputs": [
    {
     "data": {
      "text/plain": [
       "Ttest_indResult(statistic=33.53288167141703, pvalue=2.0174966027687074e-246)"
      ]
     },
     "execution_count": 140,
     "metadata": {},
     "output_type": "execute_result"
    }
   ],
   "source": [
    "stats.ttest_ind(suv_sup,amo_sup)"
   ]
  },
  {
   "cell_type": "markdown",
   "id": "fadfac58",
   "metadata": {},
   "source": [
    "#### CMU-C vs AMO"
   ]
  },
  {
   "cell_type": "code",
   "execution_count": 141,
   "id": "3630b389",
   "metadata": {},
   "outputs": [
    {
     "data": {
      "text/plain": [
       "Ttest_indResult(statistic=24.234309472329652, pvalue=1.010262307158509e-129)"
      ]
     },
     "execution_count": 141,
     "metadata": {},
     "output_type": "execute_result"
    }
   ],
   "source": [
    "stats.ttest_ind(cmuc_sup,amo_sup)"
   ]
  },
  {
   "cell_type": "code",
   "execution_count": null,
   "id": "dfc56866",
   "metadata": {},
   "outputs": [],
   "source": []
  },
  {
   "cell_type": "markdown",
   "id": "63004a06",
   "metadata": {},
   "source": [
    "## Patients with supplement repartition across systems, all years, stay focused"
   ]
  },
  {
   "cell_type": "markdown",
   "id": "968e9752",
   "metadata": {},
   "source": [
    "We aim to perform the following $\\chi^{2}$ test :\n",
    "\n",
    "$$\n",
    "\\begin{cases}H_{0}: & \\text { grp_cln and raison are independant } \\\\ H_{1}: & \\text { grp_cln and raison are dependant }\\end{cases}\n",
    "$$"
   ]
  },
  {
   "cell_type": "code",
   "execution_count": 179,
   "id": "3bdbbef1",
   "metadata": {},
   "outputs": [],
   "source": [
    "df = pd.read_csv('pmsi_analysis_v14.csv')\n",
    "df.drop('Unnamed: 0',axis=1,inplace=True)"
   ]
  },
  {
   "cell_type": "code",
   "execution_count": 180,
   "id": "8d2ff1a0",
   "metadata": {},
   "outputs": [],
   "source": [
    "df['sup'] = df['supp_rea'] + df['supp_si'] + df['supp_stf'] + df['supp_src']"
   ]
  },
  {
   "cell_type": "code",
   "execution_count": 181,
   "id": "d18fc3c7",
   "metadata": {},
   "outputs": [],
   "source": [
    "df['sup_1'] = df['sup'] >= 1"
   ]
  },
  {
   "cell_type": "code",
   "execution_count": 182,
   "id": "ee532017",
   "metadata": {},
   "outputs": [],
   "source": [
    "df_cg = df.groupby(['raison','sup_1']).agg({'anonyme':'nunique'})\n",
    "df_cg = df_cg.reset_index()"
   ]
  },
  {
   "cell_type": "code",
   "execution_count": 183,
   "id": "5859b667",
   "metadata": {},
   "outputs": [
    {
     "data": {
      "text/html": [
       "<div>\n",
       "<style scoped>\n",
       "    .dataframe tbody tr th:only-of-type {\n",
       "        vertical-align: middle;\n",
       "    }\n",
       "\n",
       "    .dataframe tbody tr th {\n",
       "        vertical-align: top;\n",
       "    }\n",
       "\n",
       "    .dataframe thead th {\n",
       "        text-align: right;\n",
       "    }\n",
       "</style>\n",
       "<table border=\"1\" class=\"dataframe\">\n",
       "  <thead>\n",
       "    <tr style=\"text-align: right;\">\n",
       "      <th></th>\n",
       "      <th>raison</th>\n",
       "      <th>sup_1</th>\n",
       "      <th>anonyme</th>\n",
       "    </tr>\n",
       "  </thead>\n",
       "  <tbody>\n",
       "    <tr>\n",
       "      <th>0</th>\n",
       "      <td>AME</td>\n",
       "      <td>False</td>\n",
       "      <td>335648</td>\n",
       "    </tr>\n",
       "    <tr>\n",
       "      <th>1</th>\n",
       "      <td>AME</td>\n",
       "      <td>True</td>\n",
       "      <td>26939</td>\n",
       "    </tr>\n",
       "    <tr>\n",
       "      <th>2</th>\n",
       "      <td>AMO hors CMU-C</td>\n",
       "      <td>False</td>\n",
       "      <td>509330</td>\n",
       "    </tr>\n",
       "    <tr>\n",
       "      <th>3</th>\n",
       "      <td>AMO hors CMU-C</td>\n",
       "      <td>True</td>\n",
       "      <td>42650</td>\n",
       "    </tr>\n",
       "    <tr>\n",
       "      <th>4</th>\n",
       "      <td>CMU-C</td>\n",
       "      <td>False</td>\n",
       "      <td>442191</td>\n",
       "    </tr>\n",
       "    <tr>\n",
       "      <th>5</th>\n",
       "      <td>CMU-C</td>\n",
       "      <td>True</td>\n",
       "      <td>34893</td>\n",
       "    </tr>\n",
       "    <tr>\n",
       "      <th>6</th>\n",
       "      <td>SUV</td>\n",
       "      <td>False</td>\n",
       "      <td>54084</td>\n",
       "    </tr>\n",
       "    <tr>\n",
       "      <th>7</th>\n",
       "      <td>SUV</td>\n",
       "      <td>True</td>\n",
       "      <td>6610</td>\n",
       "    </tr>\n",
       "  </tbody>\n",
       "</table>\n",
       "</div>"
      ],
      "text/plain": [
       "           raison  sup_1  anonyme\n",
       "0             AME  False   335648\n",
       "1             AME   True    26939\n",
       "2  AMO hors CMU-C  False   509330\n",
       "3  AMO hors CMU-C   True    42650\n",
       "4           CMU-C  False   442191\n",
       "5           CMU-C   True    34893\n",
       "6             SUV  False    54084\n",
       "7             SUV   True     6610"
      ]
     },
     "execution_count": 183,
     "metadata": {},
     "output_type": "execute_result"
    }
   ],
   "source": [
    "df_cg"
   ]
  },
  {
   "cell_type": "code",
   "execution_count": 184,
   "id": "d323959d",
   "metadata": {},
   "outputs": [],
   "source": [
    "df_r = df.groupby(['raison']).agg({'anonyme':'nunique'})\n",
    "df_r = df_r.reset_index()"
   ]
  },
  {
   "cell_type": "code",
   "execution_count": 185,
   "id": "ee395bf6",
   "metadata": {},
   "outputs": [
    {
     "data": {
      "text/html": [
       "<div>\n",
       "<style scoped>\n",
       "    .dataframe tbody tr th:only-of-type {\n",
       "        vertical-align: middle;\n",
       "    }\n",
       "\n",
       "    .dataframe tbody tr th {\n",
       "        vertical-align: top;\n",
       "    }\n",
       "\n",
       "    .dataframe thead th {\n",
       "        text-align: right;\n",
       "    }\n",
       "</style>\n",
       "<table border=\"1\" class=\"dataframe\">\n",
       "  <thead>\n",
       "    <tr style=\"text-align: right;\">\n",
       "      <th></th>\n",
       "      <th>raison</th>\n",
       "      <th>anonyme</th>\n",
       "    </tr>\n",
       "  </thead>\n",
       "  <tbody>\n",
       "    <tr>\n",
       "      <th>0</th>\n",
       "      <td>AME</td>\n",
       "      <td>343392</td>\n",
       "    </tr>\n",
       "    <tr>\n",
       "      <th>1</th>\n",
       "      <td>AMO hors CMU-C</td>\n",
       "      <td>527849</td>\n",
       "    </tr>\n",
       "    <tr>\n",
       "      <th>2</th>\n",
       "      <td>CMU-C</td>\n",
       "      <td>460333</td>\n",
       "    </tr>\n",
       "    <tr>\n",
       "      <th>3</th>\n",
       "      <td>SUV</td>\n",
       "      <td>57276</td>\n",
       "    </tr>\n",
       "  </tbody>\n",
       "</table>\n",
       "</div>"
      ],
      "text/plain": [
       "           raison  anonyme\n",
       "0             AME   343392\n",
       "1  AMO hors CMU-C   527849\n",
       "2           CMU-C   460333\n",
       "3             SUV    57276"
      ]
     },
     "execution_count": 185,
     "metadata": {},
     "output_type": "execute_result"
    }
   ],
   "source": [
    "df_r"
   ]
  },
  {
   "cell_type": "code",
   "execution_count": 186,
   "id": "56f60788",
   "metadata": {},
   "outputs": [],
   "source": [
    "df_cg = df_cg.pivot_table('anonyme', ['sup_1'], 'raison')\n",
    "df_cg = df_cg.reset_index()\n",
    "df_cg = df_cg.rename_axis(None, axis=1)\n",
    "df_cg.index = range(1,len(df_cg)+1)"
   ]
  },
  {
   "cell_type": "code",
   "execution_count": 187,
   "id": "f56dd260",
   "metadata": {},
   "outputs": [
    {
     "data": {
      "text/html": [
       "<div>\n",
       "<style scoped>\n",
       "    .dataframe tbody tr th:only-of-type {\n",
       "        vertical-align: middle;\n",
       "    }\n",
       "\n",
       "    .dataframe tbody tr th {\n",
       "        vertical-align: top;\n",
       "    }\n",
       "\n",
       "    .dataframe thead th {\n",
       "        text-align: right;\n",
       "    }\n",
       "</style>\n",
       "<table border=\"1\" class=\"dataframe\">\n",
       "  <thead>\n",
       "    <tr style=\"text-align: right;\">\n",
       "      <th></th>\n",
       "      <th>sup_1</th>\n",
       "      <th>AME</th>\n",
       "      <th>AMO hors CMU-C</th>\n",
       "      <th>CMU-C</th>\n",
       "      <th>SUV</th>\n",
       "    </tr>\n",
       "  </thead>\n",
       "  <tbody>\n",
       "    <tr>\n",
       "      <th>1</th>\n",
       "      <td>False</td>\n",
       "      <td>335648</td>\n",
       "      <td>509330</td>\n",
       "      <td>442191</td>\n",
       "      <td>54084</td>\n",
       "    </tr>\n",
       "    <tr>\n",
       "      <th>2</th>\n",
       "      <td>True</td>\n",
       "      <td>26939</td>\n",
       "      <td>42650</td>\n",
       "      <td>34893</td>\n",
       "      <td>6610</td>\n",
       "    </tr>\n",
       "  </tbody>\n",
       "</table>\n",
       "</div>"
      ],
      "text/plain": [
       "   sup_1     AME  AMO hors CMU-C   CMU-C    SUV\n",
       "1  False  335648          509330  442191  54084\n",
       "2   True   26939           42650   34893   6610"
      ]
     },
     "execution_count": 187,
     "metadata": {},
     "output_type": "execute_result"
    }
   ],
   "source": [
    "df_cg"
   ]
  },
  {
   "cell_type": "code",
   "execution_count": 188,
   "id": "2e24e1ab",
   "metadata": {},
   "outputs": [],
   "source": [
    "cont = df_cg[df_cg.columns[1:]].to_numpy()"
   ]
  },
  {
   "cell_type": "code",
   "execution_count": 189,
   "id": "e15d59d0",
   "metadata": {},
   "outputs": [
    {
     "data": {
      "text/plain": [
       "array([[335648, 509330, 442191,  54084],\n",
       "       [ 26939,  42650,  34893,   6610]], dtype=int64)"
      ]
     },
     "execution_count": 189,
     "metadata": {},
     "output_type": "execute_result"
    }
   ],
   "source": [
    "cont"
   ]
  },
  {
   "cell_type": "code",
   "execution_count": 190,
   "id": "9b9bf880",
   "metadata": {},
   "outputs": [],
   "source": [
    "chi2, p, dof, expec = stats.chi2_contingency(cont)"
   ]
  },
  {
   "cell_type": "code",
   "execution_count": 191,
   "id": "422cc513",
   "metadata": {},
   "outputs": [
    {
     "name": "stdout",
     "output_type": "stream",
     "text": [
      "chi2 stat: 1008.1890639528796, p_value: 3.010700713323296e-218\n"
     ]
    }
   ],
   "source": [
    "print(f'chi2 stat: {chi2}, p_value: {p}')"
   ]
  },
  {
   "cell_type": "markdown",
   "id": "264fd74c",
   "metadata": {},
   "source": [
    "We reject $H_{0}$"
   ]
  },
  {
   "cell_type": "code",
   "execution_count": null,
   "id": "1a62e74a",
   "metadata": {},
   "outputs": [],
   "source": []
  },
  {
   "cell_type": "markdown",
   "id": "67620c08",
   "metadata": {},
   "source": [
    "## Patients coming from emergency services repartition across systems, all years, stay focused"
   ]
  },
  {
   "cell_type": "markdown",
   "id": "0cbcfd5f",
   "metadata": {},
   "source": [
    "We aim to perform the following $\\chi^{2}$ test :\n",
    "\n",
    "$$\n",
    "\\begin{cases}H_{0}: & \\text { grp_cln and raison are independant } \\\\ H_{1}: & \\text { grp_cln and raison are dependant }\\end{cases}\n",
    "$$"
   ]
  },
  {
   "cell_type": "code",
   "execution_count": 193,
   "id": "c45e7839",
   "metadata": {},
   "outputs": [],
   "source": [
    "def provenance_proc(prov):\n",
    "    if prov == 5 or prov==5.0 or prov=='5' or prov=='5.0':\n",
    "        return 'Urgences'\n",
    "    else:\n",
    "        return 'Autres'"
   ]
  },
  {
   "cell_type": "code",
   "execution_count": 194,
   "id": "9b187ed2",
   "metadata": {},
   "outputs": [],
   "source": [
    "df = pd.read_csv('pmsi_analysis_v14.csv')\n",
    "df.drop('Unnamed: 0',axis=1,inplace=True)"
   ]
  },
  {
   "cell_type": "code",
   "execution_count": 195,
   "id": "60353c69",
   "metadata": {},
   "outputs": [],
   "source": [
    "df['provenance'] = df['provenance'].apply(provenance_proc)"
   ]
  },
  {
   "cell_type": "code",
   "execution_count": 196,
   "id": "49677e4f",
   "metadata": {},
   "outputs": [],
   "source": [
    "df_cg = df.groupby(['raison','provenance']).agg({'anonyme':'nunique'})\n",
    "df_cg = df_cg.reset_index()"
   ]
  },
  {
   "cell_type": "code",
   "execution_count": 197,
   "id": "7dc05bc7",
   "metadata": {},
   "outputs": [
    {
     "data": {
      "text/html": [
       "<div>\n",
       "<style scoped>\n",
       "    .dataframe tbody tr th:only-of-type {\n",
       "        vertical-align: middle;\n",
       "    }\n",
       "\n",
       "    .dataframe tbody tr th {\n",
       "        vertical-align: top;\n",
       "    }\n",
       "\n",
       "    .dataframe thead th {\n",
       "        text-align: right;\n",
       "    }\n",
       "</style>\n",
       "<table border=\"1\" class=\"dataframe\">\n",
       "  <thead>\n",
       "    <tr style=\"text-align: right;\">\n",
       "      <th></th>\n",
       "      <th>raison</th>\n",
       "      <th>provenance</th>\n",
       "      <th>anonyme</th>\n",
       "    </tr>\n",
       "  </thead>\n",
       "  <tbody>\n",
       "    <tr>\n",
       "      <th>0</th>\n",
       "      <td>AME</td>\n",
       "      <td>Autres</td>\n",
       "      <td>246543</td>\n",
       "    </tr>\n",
       "    <tr>\n",
       "      <th>1</th>\n",
       "      <td>AME</td>\n",
       "      <td>Urgences</td>\n",
       "      <td>166108</td>\n",
       "    </tr>\n",
       "    <tr>\n",
       "      <th>2</th>\n",
       "      <td>AMO hors CMU-C</td>\n",
       "      <td>Autres</td>\n",
       "      <td>373995</td>\n",
       "    </tr>\n",
       "    <tr>\n",
       "      <th>3</th>\n",
       "      <td>AMO hors CMU-C</td>\n",
       "      <td>Urgences</td>\n",
       "      <td>217723</td>\n",
       "    </tr>\n",
       "    <tr>\n",
       "      <th>4</th>\n",
       "      <td>CMU-C</td>\n",
       "      <td>Autres</td>\n",
       "      <td>280024</td>\n",
       "    </tr>\n",
       "    <tr>\n",
       "      <th>5</th>\n",
       "      <td>CMU-C</td>\n",
       "      <td>Urgences</td>\n",
       "      <td>227209</td>\n",
       "    </tr>\n",
       "    <tr>\n",
       "      <th>6</th>\n",
       "      <td>SUV</td>\n",
       "      <td>Autres</td>\n",
       "      <td>29993</td>\n",
       "    </tr>\n",
       "    <tr>\n",
       "      <th>7</th>\n",
       "      <td>SUV</td>\n",
       "      <td>Urgences</td>\n",
       "      <td>38756</td>\n",
       "    </tr>\n",
       "  </tbody>\n",
       "</table>\n",
       "</div>"
      ],
      "text/plain": [
       "           raison provenance  anonyme\n",
       "0             AME     Autres   246543\n",
       "1             AME   Urgences   166108\n",
       "2  AMO hors CMU-C     Autres   373995\n",
       "3  AMO hors CMU-C   Urgences   217723\n",
       "4           CMU-C     Autres   280024\n",
       "5           CMU-C   Urgences   227209\n",
       "6             SUV     Autres    29993\n",
       "7             SUV   Urgences    38756"
      ]
     },
     "execution_count": 197,
     "metadata": {},
     "output_type": "execute_result"
    }
   ],
   "source": [
    "df_cg"
   ]
  },
  {
   "cell_type": "code",
   "execution_count": 198,
   "id": "d484d078",
   "metadata": {},
   "outputs": [],
   "source": [
    "df_cg = df_cg.pivot_table('anonyme', ['provenance'], 'raison')\n",
    "df_cg = df_cg.reset_index()\n",
    "df_cg = df_cg.rename_axis(None, axis=1)\n",
    "df_cg.index = range(1,len(df_cg)+1)"
   ]
  },
  {
   "cell_type": "code",
   "execution_count": 199,
   "id": "e2f1ed4f",
   "metadata": {},
   "outputs": [
    {
     "data": {
      "text/html": [
       "<div>\n",
       "<style scoped>\n",
       "    .dataframe tbody tr th:only-of-type {\n",
       "        vertical-align: middle;\n",
       "    }\n",
       "\n",
       "    .dataframe tbody tr th {\n",
       "        vertical-align: top;\n",
       "    }\n",
       "\n",
       "    .dataframe thead th {\n",
       "        text-align: right;\n",
       "    }\n",
       "</style>\n",
       "<table border=\"1\" class=\"dataframe\">\n",
       "  <thead>\n",
       "    <tr style=\"text-align: right;\">\n",
       "      <th></th>\n",
       "      <th>provenance</th>\n",
       "      <th>AME</th>\n",
       "      <th>AMO hors CMU-C</th>\n",
       "      <th>CMU-C</th>\n",
       "      <th>SUV</th>\n",
       "    </tr>\n",
       "  </thead>\n",
       "  <tbody>\n",
       "    <tr>\n",
       "      <th>1</th>\n",
       "      <td>Autres</td>\n",
       "      <td>246543</td>\n",
       "      <td>373995</td>\n",
       "      <td>280024</td>\n",
       "      <td>29993</td>\n",
       "    </tr>\n",
       "    <tr>\n",
       "      <th>2</th>\n",
       "      <td>Urgences</td>\n",
       "      <td>166108</td>\n",
       "      <td>217723</td>\n",
       "      <td>227209</td>\n",
       "      <td>38756</td>\n",
       "    </tr>\n",
       "  </tbody>\n",
       "</table>\n",
       "</div>"
      ],
      "text/plain": [
       "  provenance     AME  AMO hors CMU-C   CMU-C    SUV\n",
       "1     Autres  246543          373995  280024  29993\n",
       "2   Urgences  166108          217723  227209  38756"
      ]
     },
     "execution_count": 199,
     "metadata": {},
     "output_type": "execute_result"
    }
   ],
   "source": [
    "df_cg"
   ]
  },
  {
   "cell_type": "code",
   "execution_count": 200,
   "id": "dce53fbe",
   "metadata": {},
   "outputs": [],
   "source": [
    "cont = df_cg[df_cg.columns[1:]].to_numpy()"
   ]
  },
  {
   "cell_type": "code",
   "execution_count": 201,
   "id": "18605860",
   "metadata": {},
   "outputs": [
    {
     "data": {
      "text/plain": [
       "array([[246543, 373995, 280024,  29993],\n",
       "       [166108, 217723, 227209,  38756]], dtype=int64)"
      ]
     },
     "execution_count": 201,
     "metadata": {},
     "output_type": "execute_result"
    }
   ],
   "source": [
    "cont"
   ]
  },
  {
   "cell_type": "code",
   "execution_count": 202,
   "id": "0a0398bb",
   "metadata": {},
   "outputs": [],
   "source": [
    "chi2, p, dof, expec = stats.chi2_contingency(cont)"
   ]
  },
  {
   "cell_type": "code",
   "execution_count": 203,
   "id": "43b39398",
   "metadata": {},
   "outputs": [
    {
     "name": "stdout",
     "output_type": "stream",
     "text": [
      "chi2 stat: 14133.633600968273, p_value: 0.0\n"
     ]
    }
   ],
   "source": [
    "print(f'chi2 stat: {chi2}, p_value: {p}')"
   ]
  },
  {
   "cell_type": "markdown",
   "id": "14ef950f",
   "metadata": {},
   "source": [
    "We reject $H_{0}$"
   ]
  }
 ],
 "metadata": {
  "kernelspec": {
   "display_name": "Python 3",
   "language": "python",
   "name": "python3"
  },
  "language_info": {
   "codemirror_mode": {
    "name": "ipython",
    "version": 3
   },
   "file_extension": ".py",
   "mimetype": "text/x-python",
   "name": "python",
   "nbconvert_exporter": "python",
   "pygments_lexer": "ipython3",
   "version": "3.8.8"
  }
 },
 "nbformat": 4,
 "nbformat_minor": 5
}
