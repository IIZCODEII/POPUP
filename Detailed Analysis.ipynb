{
 "cells": [
  {
   "cell_type": "code",
   "execution_count": 1,
   "id": "3f957ce7",
   "metadata": {},
   "outputs": [],
   "source": [
    "import pandas as pd"
   ]
  },
  {
   "cell_type": "markdown",
   "id": "6d3e858a",
   "metadata": {},
   "source": [
    "##### Repartition GHM"
   ]
  },
  {
   "cell_type": "markdown",
   "id": "3c4e041f",
   "metadata": {},
   "source": [
    "![title](repart_ghm_patients_top_global.png)"
   ]
  },
  {
   "cell_type": "markdown",
   "id": "b859f0e4",
   "metadata": {},
   "source": [
    "##### Repartition GHM - AME"
   ]
  },
  {
   "cell_type": "markdown",
   "id": "863f91de",
   "metadata": {},
   "source": [
    "![title](repart_ghm_patients_top_ame.png)"
   ]
  },
  {
   "cell_type": "markdown",
   "id": "999bb608",
   "metadata": {},
   "source": [
    "##### Repartition GHM - SUV"
   ]
  },
  {
   "cell_type": "markdown",
   "id": "aacc6e1a",
   "metadata": {},
   "source": [
    "![title](repart_ghm_patients_top_suv.png)"
   ]
  },
  {
   "cell_type": "markdown",
   "id": "a0463b5f",
   "metadata": {},
   "source": [
    "##### Repartition GHM - CMU"
   ]
  },
  {
   "cell_type": "markdown",
   "id": "98508cbb",
   "metadata": {},
   "source": [
    "![title](repart_ghm_patients_top_cmu.png)"
   ]
  },
  {
   "cell_type": "markdown",
   "id": "9a1033ab",
   "metadata": {},
   "source": [
    "![title](top_ghm_hp.png)"
   ]
  },
  {
   "cell_type": "markdown",
   "id": "9cc5dae8",
   "metadata": {},
   "source": [
    "#### Nouveau-nés de 3300g et âge gestationnel de 40 SA et assimilés (groupe nouveau-nés 1), sans problème significatif"
   ]
  },
  {
   "cell_type": "markdown",
   "id": "fc51e02f",
   "metadata": {},
   "source": [
    "![title](analyse_nn_3300_geo.png)"
   ]
  },
  {
   "cell_type": "markdown",
   "id": "3dc4b8a0",
   "metadata": {},
   "source": [
    "##### diagnostics principaux"
   ]
  },
  {
   "cell_type": "code",
   "execution_count": 3,
   "id": "29aa772c",
   "metadata": {},
   "outputs": [
    {
     "data": {
      "text/html": [
       "<div>\n",
       "<style scoped>\n",
       "    .dataframe tbody tr th:only-of-type {\n",
       "        vertical-align: middle;\n",
       "    }\n",
       "\n",
       "    .dataframe tbody tr th {\n",
       "        vertical-align: top;\n",
       "    }\n",
       "\n",
       "    .dataframe thead th {\n",
       "        text-align: right;\n",
       "    }\n",
       "</style>\n",
       "<table border=\"1\" class=\"dataframe\">\n",
       "  <thead>\n",
       "    <tr style=\"text-align: right;\">\n",
       "      <th></th>\n",
       "      <th>lib_dp</th>\n",
       "      <th>Nombre de patients uniques</th>\n",
       "    </tr>\n",
       "  </thead>\n",
       "  <tbody>\n",
       "    <tr>\n",
       "      <th>0</th>\n",
       "      <td>Enfant unique, né à l'hôpital</td>\n",
       "      <td>55061</td>\n",
       "    </tr>\n",
       "    <tr>\n",
       "      <th>1</th>\n",
       "      <td>Ictère néonatal, sans précision</td>\n",
       "      <td>1012</td>\n",
       "    </tr>\n",
       "    <tr>\n",
       "      <th>2</th>\n",
       "      <td>Surveillance médicale et soins médicaux d'autr...</td>\n",
       "      <td>690</td>\n",
       "    </tr>\n",
       "    <tr>\n",
       "      <th>3</th>\n",
       "      <td>Foetus et nouveau-né affectés par des maladies...</td>\n",
       "      <td>599</td>\n",
       "    </tr>\n",
       "    <tr>\n",
       "      <th>4</th>\n",
       "      <td>Enfant unique, né hors d'un hôpital</td>\n",
       "      <td>575</td>\n",
       "    </tr>\n",
       "    <tr>\n",
       "      <th>...</th>\n",
       "      <td>...</td>\n",
       "      <td>...</td>\n",
       "    </tr>\n",
       "    <tr>\n",
       "      <th>443</th>\n",
       "      <td>Tremblement, sans précision</td>\n",
       "      <td>1</td>\n",
       "    </tr>\n",
       "    <tr>\n",
       "      <th>444</th>\n",
       "      <td>Trouble de l'alimentation non organique du nou...</td>\n",
       "      <td>1</td>\n",
       "    </tr>\n",
       "    <tr>\n",
       "      <th>445</th>\n",
       "      <td>Tumeur bénigne de la peau du tronc</td>\n",
       "      <td>1</td>\n",
       "    </tr>\n",
       "    <tr>\n",
       "      <th>446</th>\n",
       "      <td>Tumeur bénigne de la thyroïde</td>\n",
       "      <td>1</td>\n",
       "    </tr>\n",
       "    <tr>\n",
       "      <th>447</th>\n",
       "      <td>Ventricule droit à double issue</td>\n",
       "      <td>1</td>\n",
       "    </tr>\n",
       "  </tbody>\n",
       "</table>\n",
       "<p>448 rows × 2 columns</p>\n",
       "</div>"
      ],
      "text/plain": [
       "                                                lib_dp  \\\n",
       "0                        Enfant unique, né à l'hôpital   \n",
       "1                      Ictère néonatal, sans précision   \n",
       "2    Surveillance médicale et soins médicaux d'autr...   \n",
       "3    Foetus et nouveau-né affectés par des maladies...   \n",
       "4                  Enfant unique, né hors d'un hôpital   \n",
       "..                                                 ...   \n",
       "443                        Tremblement, sans précision   \n",
       "444  Trouble de l'alimentation non organique du nou...   \n",
       "445                 Tumeur bénigne de la peau du tronc   \n",
       "446                      Tumeur bénigne de la thyroïde   \n",
       "447                    Ventricule droit à double issue   \n",
       "\n",
       "     Nombre de patients uniques  \n",
       "0                         55061  \n",
       "1                          1012  \n",
       "2                           690  \n",
       "3                           599  \n",
       "4                           575  \n",
       "..                          ...  \n",
       "443                           1  \n",
       "444                           1  \n",
       "445                           1  \n",
       "446                           1  \n",
       "447                           1  \n",
       "\n",
       "[448 rows x 2 columns]"
      ]
     },
     "execution_count": 3,
     "metadata": {},
     "output_type": "execute_result"
    }
   ],
   "source": [
    "df = pd.read_excel('analyse_nn_3300_dp.xlsx')\n",
    "df = df[df.columns[1:]]\n",
    "df.columns = ['lib_dp','Nombre de patients uniques']\n",
    "df"
   ]
  },
  {
   "cell_type": "markdown",
   "id": "ac94c3b0",
   "metadata": {},
   "source": [
    "##### type d'hospitalisation"
   ]
  },
  {
   "attachments": {
    "image.png": {
     "image/png": "[encoded data removed]"
    }
   },
   "cell_type": "markdown",
   "id": "5c8165c0",
   "metadata": {},
   "source": [
    "![image.png](attachment:image.png)"
   ]
  },
  {
   "cell_type": "markdown",
   "id": "3b9d8cc5",
   "metadata": {},
   "source": [
    "#### Ethylisme aigu, niveau 1"
   ]
  },
  {
   "cell_type": "markdown",
   "id": "c9bf5d2d",
   "metadata": {},
   "source": [
    "![title](analyse_ethylisme_geo.png)"
   ]
  },
  {
   "cell_type": "markdown",
   "id": "21ade6fd",
   "metadata": {},
   "source": [
    "##### diagnostics principaux"
   ]
  },
  {
   "cell_type": "code",
   "execution_count": 10,
   "id": "5b160e06",
   "metadata": {},
   "outputs": [
    {
     "data": {
      "text/html": [
       "<div>\n",
       "<style scoped>\n",
       "    .dataframe tbody tr th:only-of-type {\n",
       "        vertical-align: middle;\n",
       "    }\n",
       "\n",
       "    .dataframe tbody tr th {\n",
       "        vertical-align: top;\n",
       "    }\n",
       "\n",
       "    .dataframe thead th {\n",
       "        text-align: right;\n",
       "    }\n",
       "</style>\n",
       "<table border=\"1\" class=\"dataframe\">\n",
       "  <thead>\n",
       "    <tr style=\"text-align: right;\">\n",
       "      <th></th>\n",
       "      <th>lib_dp</th>\n",
       "      <th>Nombre de patients uniques</th>\n",
       "    </tr>\n",
       "  </thead>\n",
       "  <tbody>\n",
       "    <tr>\n",
       "      <th>1</th>\n",
       "      <td>Troubles mentaux et du comportement liés à l'u...</td>\n",
       "      <td>54949</td>\n",
       "    </tr>\n",
       "    <tr>\n",
       "      <th>2</th>\n",
       "      <td>Troubles mentaux et du comportement dus à une ...</td>\n",
       "      <td>28801</td>\n",
       "    </tr>\n",
       "    <tr>\n",
       "      <th>3</th>\n",
       "      <td>Troubles mentaux et du comportement dus à une ...</td>\n",
       "      <td>8978</td>\n",
       "    </tr>\n",
       "    <tr>\n",
       "      <th>4</th>\n",
       "      <td>Troubles mentaux et du comportement dus à une ...</td>\n",
       "      <td>4763</td>\n",
       "    </tr>\n",
       "    <tr>\n",
       "      <th>5</th>\n",
       "      <td>Troubles mentaux et du comportement dus à une ...</td>\n",
       "      <td>2387</td>\n",
       "    </tr>\n",
       "    <tr>\n",
       "      <th>6</th>\n",
       "      <td>Troubles mentaux et du comportement dus à une ...</td>\n",
       "      <td>2170</td>\n",
       "    </tr>\n",
       "    <tr>\n",
       "      <th>7</th>\n",
       "      <td>Troubles mentaux et du comportement dus à une ...</td>\n",
       "      <td>1261</td>\n",
       "    </tr>\n",
       "    <tr>\n",
       "      <th>8</th>\n",
       "      <td>Troubles mentaux et du comportement dus à une ...</td>\n",
       "      <td>1184</td>\n",
       "    </tr>\n",
       "    <tr>\n",
       "      <th>9</th>\n",
       "      <td>Troubles mentaux et du comportement liés à l'u...</td>\n",
       "      <td>921</td>\n",
       "    </tr>\n",
       "    <tr>\n",
       "      <th>10</th>\n",
       "      <td>Troubles mentaux et du comportement dus à une ...</td>\n",
       "      <td>746</td>\n",
       "    </tr>\n",
       "    <tr>\n",
       "      <th>11</th>\n",
       "      <td>Présence d'alcool dans le sang</td>\n",
       "      <td>618</td>\n",
       "    </tr>\n",
       "    <tr>\n",
       "      <th>12</th>\n",
       "      <td>Examen de contrôle après traitements combinés ...</td>\n",
       "      <td>4</td>\n",
       "    </tr>\n",
       "    <tr>\n",
       "      <th>13</th>\n",
       "      <td>Examen de contrôle après d'autres traitements ...</td>\n",
       "      <td>3</td>\n",
       "    </tr>\n",
       "  </tbody>\n",
       "</table>\n",
       "</div>"
      ],
      "text/plain": [
       "                                               lib_dp  \\\n",
       "1   Troubles mentaux et du comportement liés à l'u...   \n",
       "2   Troubles mentaux et du comportement dus à une ...   \n",
       "3   Troubles mentaux et du comportement dus à une ...   \n",
       "4   Troubles mentaux et du comportement dus à une ...   \n",
       "5   Troubles mentaux et du comportement dus à une ...   \n",
       "6   Troubles mentaux et du comportement dus à une ...   \n",
       "7   Troubles mentaux et du comportement dus à une ...   \n",
       "8   Troubles mentaux et du comportement dus à une ...   \n",
       "9   Troubles mentaux et du comportement liés à l'u...   \n",
       "10  Troubles mentaux et du comportement dus à une ...   \n",
       "11                     Présence d'alcool dans le sang   \n",
       "12  Examen de contrôle après traitements combinés ...   \n",
       "13  Examen de contrôle après d'autres traitements ...   \n",
       "\n",
       "   Nombre de patients uniques  \n",
       "1                       54949  \n",
       "2                       28801  \n",
       "3                        8978  \n",
       "4                        4763  \n",
       "5                        2387  \n",
       "6                        2170  \n",
       "7                        1261  \n",
       "8                        1184  \n",
       "9                         921  \n",
       "10                        746  \n",
       "11                        618  \n",
       "12                          4  \n",
       "13                          3  "
      ]
     },
     "execution_count": 10,
     "metadata": {},
     "output_type": "execute_result"
    }
   ],
   "source": [
    "df = pd.read_excel('analyse_ethylisme_dp.xlsx',names=['lib_dp','Nombre de patients uniques'])\n",
    "#df.columns = ['lib_dp','Nombre de patients uniques']\n",
    "df = df[1:]\n",
    "df"
   ]
  },
  {
   "cell_type": "markdown",
   "id": "a67b9315",
   "metadata": {},
   "source": [
    "##### type d'hospitalisation"
   ]
  },
  {
   "attachments": {
    "image-2.png": {
     "image/png": "[encoded data removed]"
    }
   },
   "cell_type": "markdown",
   "id": "dc48690b",
   "metadata": {},
   "source": [
    "![image-2.png](attachment:image-2.png)"
   ]
  },
  {
   "cell_type": "markdown",
   "id": "99c7b8a4",
   "metadata": {},
   "source": [
    "##### Autres interventions sur la peau, les tissus sous-cutanés ou les seins, en ambulatoire"
   ]
  },
  {
   "cell_type": "markdown",
   "id": "85e49e05",
   "metadata": {},
   "source": [
    "![title](analyse_peau_geo.png)"
   ]
  },
  {
   "cell_type": "markdown",
   "id": "9331aa16",
   "metadata": {},
   "source": [
    "##### diagnostics principaux"
   ]
  },
  {
   "cell_type": "code",
   "execution_count": 14,
   "id": "a89fc3dd",
   "metadata": {},
   "outputs": [
    {
     "data": {
      "text/html": [
       "<div>\n",
       "<style scoped>\n",
       "    .dataframe tbody tr th:only-of-type {\n",
       "        vertical-align: middle;\n",
       "    }\n",
       "\n",
       "    .dataframe tbody tr th {\n",
       "        vertical-align: top;\n",
       "    }\n",
       "\n",
       "    .dataframe thead th {\n",
       "        text-align: right;\n",
       "    }\n",
       "</style>\n",
       "<table border=\"1\" class=\"dataframe\">\n",
       "  <thead>\n",
       "    <tr style=\"text-align: right;\">\n",
       "      <th></th>\n",
       "      <th>lib_dp</th>\n",
       "      <th>Nombre de patients uniques</th>\n",
       "    </tr>\n",
       "  </thead>\n",
       "  <tbody>\n",
       "    <tr>\n",
       "      <th>0</th>\n",
       "      <td>Abcès cutané, furoncle et anthrax d'un membre</td>\n",
       "      <td>2905</td>\n",
       "    </tr>\n",
       "    <tr>\n",
       "      <th>1</th>\n",
       "      <td>Tumeur lipomateuse bénigne de la peau et du ti...</td>\n",
       "      <td>1921</td>\n",
       "    </tr>\n",
       "    <tr>\n",
       "      <th>2</th>\n",
       "      <td>Tumeur lipomateuse bénigne de la peau et du ti...</td>\n",
       "      <td>1643</td>\n",
       "    </tr>\n",
       "    <tr>\n",
       "      <th>3</th>\n",
       "      <td>Abcès cutané, furoncle et anthrax du tronc</td>\n",
       "      <td>1431</td>\n",
       "    </tr>\n",
       "    <tr>\n",
       "      <th>4</th>\n",
       "      <td>Tumeur lipomateuse bénigne de la peau et du ti...</td>\n",
       "      <td>968</td>\n",
       "    </tr>\n",
       "    <tr>\n",
       "      <th>...</th>\n",
       "      <td>...</td>\n",
       "      <td>...</td>\n",
       "    </tr>\n",
       "    <tr>\n",
       "      <th>269</th>\n",
       "      <td>Tumeur maligne du prolongement axillaire du sein</td>\n",
       "      <td>1</td>\n",
       "    </tr>\n",
       "    <tr>\n",
       "      <th>270</th>\n",
       "      <td>Tumeur maligne du quadrant inféro-interne du sein</td>\n",
       "      <td>1</td>\n",
       "    </tr>\n",
       "    <tr>\n",
       "      <th>271</th>\n",
       "      <td>Ulcère de décubitus et zone de pression, sans ...</td>\n",
       "      <td>1</td>\n",
       "    </tr>\n",
       "    <tr>\n",
       "      <th>272</th>\n",
       "      <td>Urticaire de contact</td>\n",
       "      <td>1</td>\n",
       "    </tr>\n",
       "    <tr>\n",
       "      <th>273</th>\n",
       "      <td>Urticaire, sans précision</td>\n",
       "      <td>1</td>\n",
       "    </tr>\n",
       "  </tbody>\n",
       "</table>\n",
       "<p>274 rows × 2 columns</p>\n",
       "</div>"
      ],
      "text/plain": [
       "                                                lib_dp  \\\n",
       "0        Abcès cutané, furoncle et anthrax d'un membre   \n",
       "1    Tumeur lipomateuse bénigne de la peau et du ti...   \n",
       "2    Tumeur lipomateuse bénigne de la peau et du ti...   \n",
       "3           Abcès cutané, furoncle et anthrax du tronc   \n",
       "4    Tumeur lipomateuse bénigne de la peau et du ti...   \n",
       "..                                                 ...   \n",
       "269   Tumeur maligne du prolongement axillaire du sein   \n",
       "270  Tumeur maligne du quadrant inféro-interne du sein   \n",
       "271  Ulcère de décubitus et zone de pression, sans ...   \n",
       "272                               Urticaire de contact   \n",
       "273                          Urticaire, sans précision   \n",
       "\n",
       "     Nombre de patients uniques  \n",
       "0                          2905  \n",
       "1                          1921  \n",
       "2                          1643  \n",
       "3                          1431  \n",
       "4                           968  \n",
       "..                          ...  \n",
       "269                           1  \n",
       "270                           1  \n",
       "271                           1  \n",
       "272                           1  \n",
       "273                           1  \n",
       "\n",
       "[274 rows x 2 columns]"
      ]
     },
     "execution_count": 14,
     "metadata": {},
     "output_type": "execute_result"
    }
   ],
   "source": [
    "df = pd.read_excel('analyse_peau_dp.xlsx')\n",
    "df = df[df.columns[1:]]\n",
    "df.columns = ['lib_dp','Nombre de patients uniques']\n",
    "df"
   ]
  },
  {
   "cell_type": "markdown",
   "id": "29b8c99f",
   "metadata": {},
   "source": [
    "##### type d'hospitalisation"
   ]
  },
  {
   "attachments": {
    "image.png": {
     "image/png": "[encoded data removed]"
    }
   },
   "cell_type": "markdown",
   "id": "46ab707e",
   "metadata": {},
   "source": [
    "![image.png](attachment:image.png)"
   ]
  },
  {
   "cell_type": "markdown",
   "id": "1c0d6a11",
   "metadata": {},
   "source": [
    "##### Autres symptômes et motifs de recours aux soins de la CMD 23, très courte durée"
   ]
  },
  {
   "cell_type": "markdown",
   "id": "e65fcf1c",
   "metadata": {},
   "source": [
    "![title](analyse_cmd_23_geo.png)"
   ]
  },
  {
   "cell_type": "markdown",
   "id": "4e4f4fd3",
   "metadata": {},
   "source": [
    "##### diagnostics principaux"
   ]
  },
  {
   "cell_type": "code",
   "execution_count": 16,
   "id": "63c5499e",
   "metadata": {},
   "outputs": [
    {
     "data": {
      "text/html": [
       "<div>\n",
       "<style scoped>\n",
       "    .dataframe tbody tr th:only-of-type {\n",
       "        vertical-align: middle;\n",
       "    }\n",
       "\n",
       "    .dataframe tbody tr th {\n",
       "        vertical-align: top;\n",
       "    }\n",
       "\n",
       "    .dataframe thead th {\n",
       "        text-align: right;\n",
       "    }\n",
       "</style>\n",
       "<table border=\"1\" class=\"dataframe\">\n",
       "  <thead>\n",
       "    <tr style=\"text-align: right;\">\n",
       "      <th></th>\n",
       "      <th>lib_dp</th>\n",
       "      <th>Nombre de patients uniques</th>\n",
       "    </tr>\n",
       "  </thead>\n",
       "  <tbody>\n",
       "    <tr>\n",
       "      <th>0</th>\n",
       "      <td>Malaise</td>\n",
       "      <td>15332</td>\n",
       "    </tr>\n",
       "    <tr>\n",
       "      <th>1</th>\n",
       "      <td>Autres examens et mises en observation pour d'...</td>\n",
       "      <td>14902</td>\n",
       "    </tr>\n",
       "    <tr>\n",
       "      <th>2</th>\n",
       "      <td>Examen et mise en observation pour bilan préop...</td>\n",
       "      <td>8392</td>\n",
       "    </tr>\n",
       "    <tr>\n",
       "      <th>3</th>\n",
       "      <td>Douleur pelvienne et périnéale</td>\n",
       "      <td>4659</td>\n",
       "    </tr>\n",
       "    <tr>\n",
       "      <th>4</th>\n",
       "      <td>Altération [baisse] de l'état général</td>\n",
       "      <td>3857</td>\n",
       "    </tr>\n",
       "    <tr>\n",
       "      <th>...</th>\n",
       "      <td>...</td>\n",
       "      <td>...</td>\n",
       "    </tr>\n",
       "    <tr>\n",
       "      <th>213</th>\n",
       "      <td>Sujet porteur d'une infection à virus lymphotr...</td>\n",
       "      <td>1</td>\n",
       "    </tr>\n",
       "    <tr>\n",
       "      <th>214</th>\n",
       "      <td>Sujet porteur d'une maladie infectieuse, sans ...</td>\n",
       "      <td>1</td>\n",
       "    </tr>\n",
       "    <tr>\n",
       "      <th>215</th>\n",
       "      <td>Vaccination non faite par décision du sujet po...</td>\n",
       "      <td>1</td>\n",
       "    </tr>\n",
       "    <tr>\n",
       "      <th>216</th>\n",
       "      <td>Vaccination non faite par décision du sujet po...</td>\n",
       "      <td>1</td>\n",
       "    </tr>\n",
       "    <tr>\n",
       "      <th>217</th>\n",
       "      <td>Vaccination non faite, sans précision</td>\n",
       "      <td>1</td>\n",
       "    </tr>\n",
       "  </tbody>\n",
       "</table>\n",
       "<p>218 rows × 2 columns</p>\n",
       "</div>"
      ],
      "text/plain": [
       "                                                lib_dp  \\\n",
       "0                                              Malaise   \n",
       "1    Autres examens et mises en observation pour d'...   \n",
       "2    Examen et mise en observation pour bilan préop...   \n",
       "3                       Douleur pelvienne et périnéale   \n",
       "4                Altération [baisse] de l'état général   \n",
       "..                                                 ...   \n",
       "213  Sujet porteur d'une infection à virus lymphotr...   \n",
       "214  Sujet porteur d'une maladie infectieuse, sans ...   \n",
       "215  Vaccination non faite par décision du sujet po...   \n",
       "216  Vaccination non faite par décision du sujet po...   \n",
       "217              Vaccination non faite, sans précision   \n",
       "\n",
       "     Nombre de patients uniques  \n",
       "0                         15332  \n",
       "1                         14902  \n",
       "2                          8392  \n",
       "3                          4659  \n",
       "4                          3857  \n",
       "..                          ...  \n",
       "213                           1  \n",
       "214                           1  \n",
       "215                           1  \n",
       "216                           1  \n",
       "217                           1  \n",
       "\n",
       "[218 rows x 2 columns]"
      ]
     },
     "execution_count": 16,
     "metadata": {},
     "output_type": "execute_result"
    }
   ],
   "source": [
    "df = pd.read_excel('analyse_cmd_23_dp.xlsx')\n",
    "df = df[df.columns[1:]]\n",
    "df.columns = ['lib_dp','Nombre de patients uniques']\n",
    "df"
   ]
  },
  {
   "cell_type": "markdown",
   "id": "c887372b",
   "metadata": {},
   "source": [
    "##### type d'hospitalisation"
   ]
  },
  {
   "attachments": {
    "image-2.png": {
     "image/png": "[encoded data removed]"
    }
   },
   "cell_type": "markdown",
   "id": "4fcf16f8",
   "metadata": {},
   "source": [
    "![image-2.png](attachment:image-2.png)"
   ]
  },
  {
   "cell_type": "markdown",
   "id": "af3d2588",
   "metadata": {},
   "source": [
    "##### IVG moins de trois jours"
   ]
  },
  {
   "cell_type": "markdown",
   "id": "5382e44c",
   "metadata": {},
   "source": [
    "![title](analyse_ivg_geo.png)"
   ]
  },
  {
   "cell_type": "markdown",
   "id": "52556394",
   "metadata": {},
   "source": [
    "##### diagnostics principaux"
   ]
  },
  {
   "cell_type": "code",
   "execution_count": 17,
   "id": "f5a03527",
   "metadata": {},
   "outputs": [
    {
     "data": {
      "text/html": [
       "<div>\n",
       "<style scoped>\n",
       "    .dataframe tbody tr th:only-of-type {\n",
       "        vertical-align: middle;\n",
       "    }\n",
       "\n",
       "    .dataframe tbody tr th {\n",
       "        vertical-align: top;\n",
       "    }\n",
       "\n",
       "    .dataframe thead th {\n",
       "        text-align: right;\n",
       "    }\n",
       "</style>\n",
       "<table border=\"1\" class=\"dataframe\">\n",
       "  <thead>\n",
       "    <tr style=\"text-align: right;\">\n",
       "      <th></th>\n",
       "      <th>lib_dp</th>\n",
       "      <th>Nombre de patients uniques</th>\n",
       "    </tr>\n",
       "  </thead>\n",
       "  <tbody>\n",
       "    <tr>\n",
       "      <th>0</th>\n",
       "      <td>Avortement médical complet ou sans précision, ...</td>\n",
       "      <td>85908</td>\n",
       "    </tr>\n",
       "    <tr>\n",
       "      <th>1</th>\n",
       "      <td>Interruption médicale volontaire de grossesse ...</td>\n",
       "      <td>18329</td>\n",
       "    </tr>\n",
       "    <tr>\n",
       "      <th>2</th>\n",
       "      <td>Échec d'une tentative d'avortement médical, sa...</td>\n",
       "      <td>1384</td>\n",
       "    </tr>\n",
       "    <tr>\n",
       "      <th>3</th>\n",
       "      <td>Avortement médical incomplet, sans complication</td>\n",
       "      <td>1131</td>\n",
       "    </tr>\n",
       "    <tr>\n",
       "      <th>4</th>\n",
       "      <td>Avortement médical incomplet, compliqué d'une ...</td>\n",
       "      <td>397</td>\n",
       "    </tr>\n",
       "    <tr>\n",
       "      <th>...</th>\n",
       "      <td>...</td>\n",
       "      <td>...</td>\n",
       "    </tr>\n",
       "    <tr>\n",
       "      <th>65</th>\n",
       "      <td>Interruption médicale de grossesse [IMG] [ITG]...</td>\n",
       "      <td>1</td>\n",
       "    </tr>\n",
       "    <tr>\n",
       "      <th>66</th>\n",
       "      <td>Interruption médicale de grossesse [IMG] [ITG]...</td>\n",
       "      <td>1</td>\n",
       "    </tr>\n",
       "    <tr>\n",
       "      <th>67</th>\n",
       "      <td>Interruption médicale volontaire de grossesse ...</td>\n",
       "      <td>1</td>\n",
       "    </tr>\n",
       "    <tr>\n",
       "      <th>68</th>\n",
       "      <td>Lésions des organes et tissus pelviens consécu...</td>\n",
       "      <td>1</td>\n",
       "    </tr>\n",
       "    <tr>\n",
       "      <th>69</th>\n",
       "      <td>Rétention du placenta sans hémorragie</td>\n",
       "      <td>1</td>\n",
       "    </tr>\n",
       "  </tbody>\n",
       "</table>\n",
       "<p>70 rows × 2 columns</p>\n",
       "</div>"
      ],
      "text/plain": [
       "                                               lib_dp  \\\n",
       "0   Avortement médical complet ou sans précision, ...   \n",
       "1   Interruption médicale volontaire de grossesse ...   \n",
       "2   Échec d'une tentative d'avortement médical, sa...   \n",
       "3     Avortement médical incomplet, sans complication   \n",
       "4   Avortement médical incomplet, compliqué d'une ...   \n",
       "..                                                ...   \n",
       "65  Interruption médicale de grossesse [IMG] [ITG]...   \n",
       "66  Interruption médicale de grossesse [IMG] [ITG]...   \n",
       "67  Interruption médicale volontaire de grossesse ...   \n",
       "68  Lésions des organes et tissus pelviens consécu...   \n",
       "69              Rétention du placenta sans hémorragie   \n",
       "\n",
       "    Nombre de patients uniques  \n",
       "0                        85908  \n",
       "1                        18329  \n",
       "2                         1384  \n",
       "3                         1131  \n",
       "4                          397  \n",
       "..                         ...  \n",
       "65                           1  \n",
       "66                           1  \n",
       "67                           1  \n",
       "68                           1  \n",
       "69                           1  \n",
       "\n",
       "[70 rows x 2 columns]"
      ]
     },
     "execution_count": 17,
     "metadata": {},
     "output_type": "execute_result"
    }
   ],
   "source": [
    "df = pd.read_excel('analyse_ivg_dp.xlsx')\n",
    "df = df[df.columns[1:]]\n",
    "df.columns = ['lib_dp','Nombre de patients uniques']\n",
    "df"
   ]
  },
  {
   "cell_type": "markdown",
   "id": "5129744a",
   "metadata": {},
   "source": [
    "##### type d'hospitalisation"
   ]
  },
  {
   "attachments": {
    "image-3.png": {
     "image/png": "[encoded data removed]"
    }
   },
   "cell_type": "markdown",
   "id": "5a7539f9",
   "metadata": {},
   "source": [
    "![image-3.png](attachment:image-3.png)"
   ]
  },
  {
   "cell_type": "markdown",
   "id": "19b84f5f",
   "metadata": {},
   "source": [
    "#### Grossesses pathologiques, accouchements et affections du post-partum"
   ]
  },
  {
   "cell_type": "markdown",
   "id": "2965e07d",
   "metadata": {},
   "source": [
    "![title](analyse_gross_geo.png)"
   ]
  },
  {
   "cell_type": "markdown",
   "id": "585216fa",
   "metadata": {},
   "source": [
    "#### CMD"
   ]
  },
  {
   "cell_type": "markdown",
   "id": "63280da8",
   "metadata": {},
   "source": [
    "![title](repart_cmd_patients.png)"
   ]
  },
  {
   "cell_type": "markdown",
   "id": "69ab4c0e",
   "metadata": {},
   "source": [
    "![title](repart_cmd_patients_cmu.png)"
   ]
  },
  {
   "cell_type": "markdown",
   "id": "f9a0773f",
   "metadata": {},
   "source": [
    "![title](repart_cmd_patients_ame.png)"
   ]
  },
  {
   "cell_type": "markdown",
   "id": "1191bfe0",
   "metadata": {},
   "source": [
    "![title](repart_cmd_patients_suv.png)"
   ]
  },
  {
   "cell_type": "markdown",
   "id": "f07ca09e",
   "metadata": {},
   "source": [
    "##### Cost Distribution"
   ]
  },
  {
   "attachments": {
    "image.png": {
     "image/png": "[encoded data removed]"
    }
   },
   "cell_type": "markdown",
   "id": "729a3911",
   "metadata": {},
   "source": [
    "![image.png](attachment:image.png)"
   ]
  },
  {
   "cell_type": "code",
   "execution_count": null,
   "id": "03392604",
   "metadata": {},
   "outputs": [],
   "source": []
  }
 ],
 "metadata": {
  "kernelspec": {
   "display_name": "Python 3",
   "language": "python",
   "name": "python3"
  },
  "language_info": {
   "codemirror_mode": {
    "name": "ipython",
    "version": 3
   },
   "file_extension": ".py",
   "mimetype": "text/x-python",
   "name": "python",
   "nbconvert_exporter": "python",
   "pygments_lexer": "ipython3",
   "version": "3.8.8"
  }
 },
 "nbformat": 4,
 "nbformat_minor": 5
}
